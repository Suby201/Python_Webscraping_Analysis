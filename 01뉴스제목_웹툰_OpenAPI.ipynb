{
 "cells": [
  {
   "cell_type": "markdown",
   "id": "eb0bfa44",
   "metadata": {},
   "source": [
    "## 1. 뉴스제목 가져오기\n",
    "* user-agent 요청헤더를 반드시 설정해야 한다."
   ]
  },
  {
   "cell_type": "code",
   "execution_count": 1,
   "id": "f0d27781",
   "metadata": {},
   "outputs": [
    {
     "name": "stdout",
     "output_type": "stream",
     "text": [
      "Name: requests\n",
      "Version: 2.32.3\n",
      "Summary: Python HTTP for Humans.\n",
      "Home-page: https://requests.readthedocs.io\n",
      "Author: Kenneth Reitz\n",
      "Author-email: me@kennethreitz.org\n",
      "License: Apache-2.0\n",
      "Location: c:\\Users\\user\\anaconda3\\Lib\\site-packages\n",
      "Requires: certifi, charset-normalizer, idna, urllib3\n",
      "Required-by: aext-assistant-server, anaconda-catalogs, anaconda-client, anaconda-cloud-auth, anaconda-project, conda, conda-build, conda-repo-cli, conda_package_streaming, cookiecutter, datashader, jupyterlab_server, panel, PyGithub, requests-file, requests-toolbelt, Sphinx, streamlit, tldextract\n",
      "Note: you may need to restart the kernel to use updated packages.\n"
     ]
    }
   ],
   "source": [
    "# requests 라이브러리 설치여부 확인\n",
    "%pip show requests"
   ]
  },
  {
   "cell_type": "code",
   "execution_count": 15,
   "id": "f7798ea8",
   "metadata": {},
   "outputs": [
    {
     "name": "stdout",
     "output_type": "stream",
     "text": [
      "Name: beautifulsoup4\n",
      "Version: 4.12.3\n",
      "Summary: Screen-scraping library\n",
      "Home-page: https://www.crummy.com/software/BeautifulSoup/bs4/\n",
      "Author: \n",
      "Author-email: Leonard Richardson <leonardr@segfault.org>\n",
      "License: MIT License\n",
      "Location: c:\\Users\\user\\anaconda3\\Lib\\site-packages\n",
      "Requires: soupsieve\n",
      "Required-by: conda-build, nbconvert\n",
      "Note: you may need to restart the kernel to use updated packages.\n"
     ]
    }
   ],
   "source": [
    "# beautifulsoup4 라이브러리 설치여부 확인\n",
    "%pip show beautifulsoup4"
   ]
  },
  {
   "cell_type": "code",
   "execution_count": 17,
   "id": "bf80a429",
   "metadata": {},
   "outputs": [],
   "source": [
    "# reqeusts, bs4 import\n",
    "import requests\n",
    "import bs4\n",
    "\n",
    "# BeautifulSoup 클래스 import\n",
    "from bs4 import BeautifulSoup"
   ]
  },
  {
   "cell_type": "code",
   "execution_count": 18,
   "id": "9788d6ac",
   "metadata": {},
   "outputs": [
    {
     "name": "stdout",
     "output_type": "stream",
     "text": [
      "reauests version: 2.32.3\n",
      "bs4 version: 4.12.3\n"
     ]
    }
   ],
   "source": [
    "# requests, bs4 버전 확인하기\n",
    "print(f'reauests version: {requests.__version__}')\n",
    "print(f'bs4 version: {bs4.__version__}')"
   ]
  },
  {
   "cell_type": "markdown",
   "id": "ccb91def-cde3-4aeb-b0e5-2e7233500333",
   "metadata": {},
   "source": [
    "### 1. 뉴스 제목 추출하기"
   ]
  },
  {
   "cell_type": "code",
   "execution_count": null,
   "id": "94c12fd6",
   "metadata": {},
   "outputs": [],
   "source": [
    "# IT/과학 뉴스 \n",
    "req_param = {\n",
    "    'sid': 105\n",
    "}\n",
    "# \n",
    "url = 'https://news.naver.com/section/{sid}'.format(**req_param)\n",
    "print(url)\n",
    "#url2 = 'https://news.naver.com/section/105'\n",
    "\n",
    "# 요청 헤더 설정 : 브라우저 정보\n",
    "req_header = {\n",
    "    'user-agent' : 'Mozilla/5.0 (Windows NT 10.0; Win64; x64) AppleWebKit/537.36 (KHTML, like Gecko) Chrome/135.0.0.0 Safari/537.36'\n",
    "}\n",
    "\n",
    "# requests 의 get() 함수 호출하기 \n",
    "res = requests.get(url, headers=req_header)\n",
    "print(res)\n",
    "print(type(res))\n",
    "print(res.status_code)\n",
    "print(res.status_code, res.ok)\n",
    "\n",
    "# 응답(response)이 OK 이면\n",
    "if res.ok:\n",
    "    # 응답 (response)에서 text 추출\n",
    "    html = res.text\n",
    "    # BeautifulSoup 객체 생성  \n",
    "    soup = BeautifulSoup(html, 'html.parser')\n",
    "    # CSS 선택자\n",
    "    print(len(soup.select(\"div.sa_text a[href*='mnews/article']\")))\n",
    "    # print(soup.select(\"div.sa_text a[href*='mnews/article']\"))\n",
    "\n",
    "    # <a> 태그 리스트 순회하기\n",
    "    a_tag_list = soup.select(\"div.sa_text a[href*='mnews/article']\")\n",
    "    print(type(a_tag_list)) #ResultSet\n",
    "    for a_tag in a_tag_list:\n",
    "        title = a_tag.text.strip() \n",
    "        link = a_tag['href'] # href 속성값\n",
    "        print(title,link) # 제목\n",
    "else:\n",
    "    # 응답(response)이 Error 이면 status code 출력    \n",
    "    print(f'error code={res.status_code}')\n"
   ]
  },
  {
   "cell_type": "markdown",
   "id": "45640860-a449-4285-90d7-5f300292b461",
   "metadata": {},
   "source": [
    "### 1.1 뉴스제목 추출하는 함수 선언하기"
   ]
  },
  {
   "cell_type": "code",
   "execution_count": null,
   "id": "9f2e4ef8",
   "metadata": {},
   "outputs": [
    {
     "name": "stdout",
     "output_type": "stream",
     "text": [
      "=======>https://news.naver.com/section/102  사회 뉴스 <=======\n",
      "<Response [200]>\n",
      "<class 'requests.models.Response'> True\n",
      "200\n",
      "92\n",
      "<class 'bs4.element.ResultSet'>\n",
      "https://n.news.naver.com/mnews/article/052/0002177172 대법원, 마용주 대법관 임명으로 3달 만에 완전체 구성\n",
      "https://n.news.naver.com/mnews/article/comment/052/0002177172 \n",
      "https://n.news.naver.com/mnews/article/056/0011927250 대구가톨릭대병원, 신생아 학대 간호사 2명 추가 확인\n",
      "https://n.news.naver.com/mnews/article/comment/056/0011927250 \n",
      "https://n.news.naver.com/mnews/article/020/0003626818 의협 “내년 의대정원, 교육 가능한지 점검 후 확정해달라”\n",
      "https://n.news.naver.com/mnews/article/comment/020/0003626818 \n",
      "https://n.news.naver.com/mnews/article/018/0005981819 전한길 “‘尹어게인’ 지지…개헌 통해 헌재 가루 되도록 할 것”\n",
      "https://n.news.naver.com/mnews/article/comment/018/0005981819 \n",
      "https://n.news.naver.com/mnews/article/020/0003626617 백종원 오너리스크?… 더본코리아, 잇단 악재에 주가 반토막\n",
      "https://n.news.naver.com/mnews/article/comment/020/0003626617 \n",
      "https://n.news.naver.com/mnews/article/020/0003626605 [단독]“젊을수록 수익비 낮은 연금, 추가개혁 필요”\n",
      "https://n.news.naver.com/mnews/article/comment/020/0003626605 \n",
      "https://n.news.naver.com/mnews/article/056/0011927128 지상파 재허가 심사위, EBS 사업자 의견 청취 연기\n",
      "https://n.news.naver.com/mnews/article/comment/056/0011927128 \n",
      "https://n.news.naver.com/mnews/article/056/0011927272 ‘강남 학원가 마약음료’ 제조 지시한 주범, 징역 23년 확정\n",
      "https://n.news.naver.com/mnews/article/comment/056/0011927272 \n",
      "https://n.news.naver.com/mnews/article/055/0001247358 이재명, 본인 대장동 재판 출석…말 없이 법정으로\n",
      "https://n.news.naver.com/mnews/article/comment/055/0001247358 \n",
      "https://n.news.naver.com/mnews/article/025/0003432655 김동연, 9일 인천공항서 대선출마 선언… 이어 관세 대응 방미\n",
      "https://n.news.naver.com/mnews/article/comment/025/0003432655 \n",
      "https://n.news.naver.com/mnews/article/057/0001880536 '술방' 논란 재점화…보아-전현무 방송 후 규제 목소리 커져[AI뉴스피드]\n",
      "https://n.news.naver.com/mnews/article/comment/057/0001880536 \n",
      "https://n.news.naver.com/mnews/article/586/0000100934 '헌재 재판관 지명' 이완규, 국민의힘 탈당 3년 지났나…與 \"확인 불가\"\n",
      "https://n.news.naver.com/mnews/article/comment/586/0000100934 \n",
      "https://n.news.naver.com/mnews/article/032/0003362024 계엄 수사대상인 이완규···공수처에선 ‘피의자’, 경찰은 이미 소환조사\n",
      "https://n.news.naver.com/mnews/article/comment/032/0003362024 \n",
      "https://n.news.naver.com/mnews/article/081/0003531756 ‘성남도개공사 조례 청탁 혐의’ 김만배 항소심 ‘무죄’···1심 뒤집혀\n",
      "https://n.news.naver.com/mnews/article/comment/081/0003531756 \n",
      "https://n.news.naver.com/mnews/article/469/0000858338 반려견 던져 죽인 아버지에 흉기 든 20대 딸... '살인미수' 징역 3년 선고\n",
      "https://n.news.naver.com/mnews/article/comment/469/0000858338 \n",
      "https://n.news.naver.com/mnews/article/081/0003531755 [단독]검찰, 서울지방국세청 압수수색…코인업자-국세청 직원 유착 의혹 수사\n",
      "https://n.news.naver.com/mnews/article/comment/081/0003531755 \n",
      "https://n.news.naver.com/mnews/article/607/0000002570 '김건희 통화폰' 알고도 놓친 검찰...김영선 폰 11대 중 4대만 압수\n",
      "https://n.news.naver.com/mnews/article/comment/607/0000002570 \n",
      "https://n.news.naver.com/mnews/article/661/0000053248 '외벽 10m 올라' 전 연인 3층 집 창문으로 침입한  20대\n",
      "https://n.news.naver.com/mnews/article/comment/661/0000053248 \n",
      "https://n.news.naver.com/mnews/article/025/0003432703 김만배, 최윤길 前시의장 ‘대장동 뇌물’ 2심 무죄…\"정당한 정치활동\"\n",
      "https://n.news.naver.com/mnews/article/comment/025/0003432703 \n",
      "https://n.news.naver.com/mnews/article/001/0015317949 경북 구미 옥성면 산불…헬기 12대 투입, 주민에 대피문자(종합)\n",
      "https://n.news.naver.com/mnews/article/comment/001/0015317949 \n",
      "https://n.news.naver.com/mnews/article/081/0003531754 ‘현대家 3세’ 정대선·노현정 성북동 주택 42억으로 ‘뚝’\n",
      "https://n.news.naver.com/mnews/article/comment/081/0003531754 \n",
      "https://n.news.naver.com/mnews/article/003/0013171271 헌법학자들 \"한덕수 헌법재판관 지명 월권·위헌…즉시 철회해야\"\n",
      "https://n.news.naver.com/mnews/article/comment/003/0013171271 \n",
      "https://n.news.naver.com/mnews/article/003/0013171270 이준석 하버드대 졸업 맞다…경찰, 하버드 통해 공식 확인\n",
      "https://n.news.naver.com/mnews/article/comment/003/0013171270 \n",
      "https://n.news.naver.com/mnews/article/421/0008180784 대장동 개발 '성남도개공 설립조례 청탁' 김만배 항소심서 무죄로 뒤집혀(종합)\n",
      "https://n.news.naver.com/mnews/article/comment/421/0008180784 \n",
      "https://n.news.naver.com/mnews/article/057/0001880529 '성남도개공 조례 청탁 혐의' 김만배, 2심서 무죄\n",
      "https://n.news.naver.com/mnews/article/comment/057/0001880529 \n",
      "https://n.news.naver.com/mnews/article/660/0000082981 만취 상태로 26t 레미콘 몰다 주택에 '쾅'..70대 거주자 숨져\n",
      "https://n.news.naver.com/mnews/article/comment/660/0000082981 \n",
      "https://n.news.naver.com/mnews/article/421/0008180780 김태열 \"명태균이 용산을 협박하는 거 보고 감당 안 되겠다 싶어 사실 진술\"\n",
      "https://n.news.naver.com/mnews/article/comment/421/0008180780 \n",
      "https://n.news.naver.com/mnews/article/047/0002469015 \"한덕수의 대통령 참칭... 윤석열의 알박기\" 헌법학계 경악\n",
      "https://n.news.naver.com/mnews/article/comment/047/0002469015 \n",
      "https://n.news.naver.com/mnews/article/666/0000069310 현직 경찰, 채팅 앱으로 만난 여성 성추행 혐의 '긴급체포'\n",
      "https://n.news.naver.com/mnews/article/comment/666/0000069310 \n",
      "https://n.news.naver.com/mnews/article/021/0002701775 옆칸에서 ‘찰칵’…여자 화장실 숨어 몰카 찍은 20대 남성\n",
      "https://n.news.naver.com/mnews/article/comment/021/0002701775 \n",
      "https://n.news.naver.com/mnews/article/088/0000940780 의협 \"작년 2월 이전처럼 돌아가야 의료정상화\"…정부·국회에 대화 요구\n",
      "https://n.news.naver.com/mnews/article/comment/088/0000940780 \n",
      "https://n.news.naver.com/mnews/article/021/0002701774 “왜 내연녀 집 찾아가?” 아내에 흉기 휘두른 ‘적반하장’ 50대 남편\n",
      "https://n.news.naver.com/mnews/article/comment/021/0002701774 \n",
      "https://n.news.naver.com/mnews/article/057/0001880525 [단독] 가정폭력 신고받고 출동한 경찰 폭행한 남편…경찰, 구속영장 신청\n",
      "https://n.news.naver.com/mnews/article/comment/057/0001880525 \n",
      "https://n.news.naver.com/mnews/article/088/0000940779 의협 \"의료 정상화 해결해야\"…정부·국회에 대화의 장 마련 요구\n",
      "https://n.news.naver.com/mnews/article/comment/088/0000940779 \n",
      "https://n.news.naver.com/mnews/article/469/0000858333 순직 공무원 사후 특별 승진 계급 맞춰 유족 급여 더 받는다\n",
      "https://n.news.naver.com/mnews/article/comment/469/0000858333 \n",
      "https://n.news.naver.com/mnews/article/057/0001880524 [단독] 경찰 기동대 간부, 갑질 의혹으로 인사 조치…\"냉장고 청소 시키고 공금 유용\"\n",
      "https://n.news.naver.com/mnews/article/comment/057/0001880524 \n",
      "https://n.news.naver.com/mnews/article/421/0008180777 \"시커먼 연기가 도로까지\" 여수 야적장 자재 창고서 불\n",
      "https://n.news.naver.com/mnews/article/comment/421/0008180777 \n",
      "https://n.news.naver.com/mnews/article/660/0000082978 광주광역시, 'AI주도 초격차 성장도시, 광주' 위한 대선공약 제안\n",
      "https://n.news.naver.com/mnews/article/comment/660/0000082978 \n",
      "https://n.news.naver.com/mnews/article/022/0004025999 \"햄버거집 운영하는 김병현…\" 야구 중계 중 '뜬금 멘트' 무슨 일?\n",
      "https://n.news.naver.com/mnews/article/comment/022/0004025999 \n",
      "https://n.news.naver.com/mnews/article/421/0008180761 '경기도 법카 유용' 첫 공판준비기일…이재명 불출석\n",
      "https://n.news.naver.com/mnews/article/comment/421/0008180761 \n",
      "https://n.news.naver.com/mnews/article/028/0002739870 의협도 “2026 의대 모집, 증원 전인 3058명으로 확정하라”\n",
      "https://n.news.naver.com/mnews/article/comment/028/0002739870 \n",
      "https://n.news.naver.com/mnews/article/081/0003531746 재판장서 언성 높인 김영선 “김태열, 거짓말 말고 자신이 뭘 했는지 말하라”\n",
      "https://n.news.naver.com/mnews/article/comment/081/0003531746 \n",
      "https://n.news.naver.com/mnews/article/079/0004011489 강릉 옥계항서 '사상 최대 규모 마약' 적발…제23경비여단 '숨은 공신'\n",
      "https://n.news.naver.com/mnews/article/comment/079/0004011489 \n",
      "https://n.news.naver.com/mnews/article/047/0002469012 5일째 버티는 윤석열에 한남동 주민들 '진절머리'... \"빨리 나가야\"\n",
      "https://n.news.naver.com/mnews/article/comment/047/0002469012 \n",
      "https://n.news.naver.com/mnews/article/008/0005177560 \"집에 가고 싶어\" 모텔서 신고…현직 경찰 '강제추행 혐의' 긴급체포\n",
      "https://n.news.naver.com/mnews/article/comment/008/0005177560 \n",
      "https://n.news.naver.com/mnews/article/028/0002739869 울주 언양 화장산 산불도 용접 불티 때문에…50대 용의자 입건\n",
      "https://n.news.naver.com/mnews/article/comment/028/0002739869 \n"
     ]
    }
   ],
   "source": [
    "import requests\n",
    "from bs4 import BeautifulSoup\n",
    "\n",
    "section_dict = {\n",
    "    100: \"정치\",\n",
    "    101: \"경제\",\n",
    "    102: \"사회\",\n",
    "    103: \"생활/문화\",\n",
    "    104: \"세계\",\n",
    "    105: \"IT/과학\",\n",
    "}\n",
    "\n",
    "\n",
    "def print_news(sid):  # print_new(103,'생활/문화')\n",
    "    section = section_dict[sid]  # section = '생활/문화'\n",
    "    req_param = {\"sid\": sid}\n",
    "    #\n",
    "    url = f\"https://news.naver.com/section/{sid}\"\n",
    "\n",
    "    req_header = {\n",
    "        \"user-agent\": \"Mozilla/5.0 (Windows NT 10.0; Win64; x64) AppleWebKit/537.36 (KHTML, like Gecko) Chrome/135.0.0.0 Safari/537.36\"\n",
    "    }\n",
    "    res = requests.get(url, headers=req_header)\n",
    "    print(res)\n",
    "    print(type(res), res.ok)\n",
    "    print(res.status_code)\n",
    "\n",
    "    if res.ok:\n",
    "        # 응답 (response)에서 text 추출\n",
    "        html = res.text\n",
    "        # BeautifulSoup 객체 생성\n",
    "        soup = BeautifulSoup(html, \"html.parser\")\n",
    "        # CSS 선택자\n",
    "        print(len(soup.select(\"div.sa_text a[href*='mnews/article']\")))\n",
    "        # print(soup.select(\"div.sa_text a[href*='mnews/article']\"))\n",
    "        \n",
    "        print(f'=======>{url}  {section} 뉴스 <=======')\n",
    "\n",
    "        # <a> 태그 리스트 순회하기\n",
    "        a_tag_list = soup.select(\"div.sa_text a[href*='mnews/article']\")\n",
    "        print(type(a_tag_list))  # ResultSet\n",
    "        for a_tag in a_tag_list:\n",
    "            title = a_tag.text.strip()\n",
    "            link = a_tag[\"href\"]  # href 속성값\n",
    "            print(link, title)  # 제목\n",
    "    else:\n",
    "        # 응답(response)이 Error 이면 status code 출력\n",
    "        print(f\"error code={res.status_code}\")\n",
    "\n",
    "\n",
    "print_news(102)"
   ]
  },
  {
   "cell_type": "markdown",
   "id": "323196dc",
   "metadata": {},
   "source": [
    "### 2. Image 다운로드\n",
    "* referer 요청 헤더를 반드시 설정해야 한다."
   ]
  },
  {
   "cell_type": "code",
   "execution_count": 8,
   "id": "c72d6cb1",
   "metadata": {},
   "outputs": [],
   "source": [
    "import requests\n",
    "import os\n",
    "\n",
    "req_header = {\n",
    "    'referer':''\n",
    "}\n",
    "\n",
    "img_urls = [\n",
    "    'https://image-comic.pstatic.net/webtoon/798173/5/20220804112251_d97bd1e1b38f0cd022e4e3639d2926b3_IMAG01_1.jpg',\n",
    "    'https://image-comic.pstatic.net/webtoon/798173/5/20220804112251_d97bd1e1b38f0cd022e4e3639d2926b3_IMAG01_2.jpg',\n",
    "    'https://image-comic.pstatic.net/webtoon/798173/5/20220804112251_d97bd1e1b38f0cd022e4e3639d2926b3_IMAG01_3.jpg'\n",
    "]\n",
    "\n",
    "for img_url in img_urls:\n",
    "    pass\n",
    "    # requests 의 get(url, headers) 함수 호출하기 \n",
    "        \n",
    "        # binary 응답 데이터 가져오기\n",
    "        \n",
    "        # url에서 파일명만 추출하기\n",
    "        \n",
    "        # binday data를 file에 write하기\n"
   ]
  },
  {
   "cell_type": "markdown",
   "id": "e8b00a04",
   "metadata": {},
   "source": [
    "* 현재 요청된 페이지의 image 모두 다운로드 해보기"
   ]
  },
  {
   "cell_type": "code",
   "execution_count": null,
   "id": "b30f7bf5",
   "metadata": {},
   "outputs": [],
   "source": []
  },
  {
   "cell_type": "markdown",
   "id": "2ac9f5f9",
   "metadata": {},
   "source": [
    "### 3. 파일 업로드 하기\n",
    "* http://httpbin.org/post 업로드 요청을 할 수 있는 url"
   ]
  },
  {
   "cell_type": "code",
   "execution_count": 9,
   "id": "04da4790",
   "metadata": {},
   "outputs": [],
   "source": [
    "import requests\n",
    "\n",
    "upload_files = {\n",
    "    \n",
    "}\n",
    "#print(upload_files)\n",
    "\n",
    "url = 'http://httpbin.org/post'\n",
    "# file 업로드 하려면 requests의 post 함수에 files 속성을 사용합니다.\n",
    "\n"
   ]
  },
  {
   "cell_type": "markdown",
   "id": "7ad65f12",
   "metadata": {},
   "source": [
    "### 4. 캡챠(이미지) API 호출하기\n",
    "* urllib 사용\n",
    "* 1. 캡차 키 발급 요청\n",
    "  2. 캡차 이미지 요청\n",
    "  3. 사용자 입력값 검증 요청"
   ]
  },
  {
   "cell_type": "code",
   "execution_count": 10,
   "id": "bc4ae360-e772-4873-8642-d3494edd34e1",
   "metadata": {},
   "outputs": [],
   "source": [
    "# 캡차 키 발급 요청\n"
   ]
  },
  {
   "cell_type": "code",
   "execution_count": 11,
   "id": "7b95b6a0-c218-4792-82a6-da4d80872071",
   "metadata": {},
   "outputs": [],
   "source": [
    "# 캡차 이미지 요청\n"
   ]
  },
  {
   "cell_type": "code",
   "execution_count": 12,
   "id": "a79076af-2cd0-4de2-8301-316b9130c55e",
   "metadata": {},
   "outputs": [],
   "source": [
    "#  사용자 입력값 검증 요청\n",
    "\n"
   ]
  },
  {
   "cell_type": "markdown",
   "id": "b7d984a6",
   "metadata": {},
   "source": [
    "* requests를 사용하는 코드로 변경하기\n",
    "* [requests docs](https://requests.readthedocs.io/en/latest/user/quickstart/)"
   ]
  },
  {
   "cell_type": "code",
   "execution_count": 13,
   "id": "727b427b",
   "metadata": {
    "scrolled": true
   },
   "outputs": [],
   "source": [
    "# 사용자 입력값 검증 요청\n",
    "\n"
   ]
  },
  {
   "cell_type": "markdown",
   "id": "d5e1179a",
   "metadata": {},
   "source": [
    "### 5. 블로그 검색하기"
   ]
  },
  {
   "cell_type": "code",
   "execution_count": 14,
   "id": "877d0c7f",
   "metadata": {},
   "outputs": [],
   "source": [
    "import requests\n",
    "import pprint\n",
    "\n",
    "headers = {\n",
    "    'X-Naver-Client-Id': '',\n",
    "    'X-Naver-Client-Secret': '',\n",
    "}\n",
    "\n",
    "payload = {\n",
    "    'query': '파이썬',\n",
    "    'display': 100,\n",
    "    'sort': 'sim'\n",
    "}\n",
    "\n",
    "url = 'https://openapi.naver.com/v1/search/blog.json'\n",
    "\n",
    "\n",
    "# requests get(url, params, headers) 요청 \n",
    "\n",
    "# json() 함수로 응답 결과 가져오오기\n",
    "# 'title' , 'bloggername' , 'description' , 'bloggerlink' , 'link'\n",
    "\n",
    "# 'data/nhnblog.txt' 파일 생성하기\n"
   ]
  }
 ],
 "metadata": {
  "kernelspec": {
   "display_name": "base",
   "language": "python",
   "name": "python3"
  },
  "language_info": {
   "codemirror_mode": {
    "name": "ipython",
    "version": 3
   },
   "file_extension": ".py",
   "mimetype": "text/x-python",
   "name": "python",
   "nbconvert_exporter": "python",
   "pygments_lexer": "ipython3",
   "version": "3.12.7"
  }
 },
 "nbformat": 4,
 "nbformat_minor": 5
}
