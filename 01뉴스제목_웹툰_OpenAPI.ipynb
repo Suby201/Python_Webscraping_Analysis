{
 "cells": [
  {
   "cell_type": "markdown",
   "id": "eb0bfa44",
   "metadata": {},
   "source": [
    "## 1. 뉴스제목 가져오기\n",
    "* user-agent 요청헤더를 반드시 설정해야 한다."
   ]
  },
  {
   "cell_type": "code",
   "execution_count": 1,
   "id": "f0d27781",
   "metadata": {},
   "outputs": [
    {
     "name": "stdout",
     "output_type": "stream",
     "text": [
      "Name: requests\n",
      "Version: 2.32.3\n",
      "Summary: Python HTTP for Humans.\n",
      "Home-page: https://requests.readthedocs.io\n",
      "Author: Kenneth Reitz\n",
      "Author-email: me@kennethreitz.org\n",
      "License: Apache-2.0\n",
      "Location: c:\\Users\\user\\anaconda3\\Lib\\site-packages\n",
      "Requires: certifi, charset-normalizer, idna, urllib3\n",
      "Required-by: aext-assistant-server, anaconda-catalogs, anaconda-client, anaconda-cloud-auth, anaconda-project, conda, conda-build, conda-repo-cli, conda_package_streaming, cookiecutter, datashader, jupyterlab_server, panel, PyGithub, requests-file, requests-toolbelt, Sphinx, streamlit, tldextract\n",
      "Note: you may need to restart the kernel to use updated packages.\n"
     ]
    }
   ],
   "source": [
    "# requests 라이브러리 설치여부 확인\n",
    "%pip show requests"
   ]
  },
  {
   "cell_type": "code",
   "execution_count": 15,
   "id": "f7798ea8",
   "metadata": {},
   "outputs": [
    {
     "name": "stdout",
     "output_type": "stream",
     "text": [
      "Name: beautifulsoup4\n",
      "Version: 4.12.3\n",
      "Summary: Screen-scraping library\n",
      "Home-page: https://www.crummy.com/software/BeautifulSoup/bs4/\n",
      "Author: \n",
      "Author-email: Leonard Richardson <leonardr@segfault.org>\n",
      "License: MIT License\n",
      "Location: c:\\Users\\user\\anaconda3\\Lib\\site-packages\n",
      "Requires: soupsieve\n",
      "Required-by: conda-build, nbconvert\n",
      "Note: you may need to restart the kernel to use updated packages.\n"
     ]
    }
   ],
   "source": [
    "# beautifulsoup4 라이브러리 설치여부 확인\n",
    "%pip show beautifulsoup4"
   ]
  },
  {
   "cell_type": "code",
   "execution_count": 17,
   "id": "bf80a429",
   "metadata": {},
   "outputs": [],
   "source": [
    "# reqeusts, bs4 import\n",
    "import requests\n",
    "import bs4\n",
    "\n",
    "# BeautifulSoup 클래스 import\n",
    "from bs4 import BeautifulSoup"
   ]
  },
  {
   "cell_type": "code",
   "execution_count": 18,
   "id": "9788d6ac",
   "metadata": {},
   "outputs": [
    {
     "name": "stdout",
     "output_type": "stream",
     "text": [
      "reauests version: 2.32.3\n",
      "bs4 version: 4.12.3\n"
     ]
    }
   ],
   "source": [
    "# requests, bs4 버전 확인하기\n",
    "print(f'reauests version: {requests.__version__}')\n",
    "print(f'bs4 version: {bs4.__version__}')"
   ]
  },
  {
   "cell_type": "markdown",
   "id": "ccb91def-cde3-4aeb-b0e5-2e7233500333",
   "metadata": {},
   "source": [
    "### 1. 뉴스 제목 추출하기"
   ]
  },
  {
   "cell_type": "code",
   "execution_count": null,
   "id": "94c12fd6",
   "metadata": {},
   "outputs": [],
   "source": [
    "# IT/과학 뉴스 \n",
    "req_param = {\n",
    "    'sid': 105\n",
    "}\n",
    "# \n",
    "url = 'https://news.naver.com/section/{sid}'.format(**req_param)\n",
    "print(url)\n",
    "#url2 = 'https://news.naver.com/section/105'\n",
    "\n",
    "# 요청 헤더 설정 : 브라우저 정보\n",
    "req_header = {\n",
    "    'user-agent' : 'Mozilla/5.0 (Windows NT 10.0; Win64; x64) AppleWebKit/537.36 (KHTML, like Gecko) Chrome/135.0.0.0 Safari/537.36'\n",
    "}\n",
    "\n",
    "# requests 의 get() 함수 호출하기 \n",
    "res = requests.get(url, headers=req_header)\n",
    "print(res)\n",
    "print(type(res))\n",
    "print(res.status_code)\n",
    "print(res.status_code, res.ok)\n",
    "\n",
    "# 응답(response)이 OK 이면\n",
    "if res.ok:\n",
    "    # 응답 (response)에서 text 추출\n",
    "    html = res.text\n",
    "    # BeautifulSoup 객체 생성  \n",
    "    soup = BeautifulSoup(html, 'html.parser')\n",
    "    # CSS 선택자\n",
    "    print(len(soup.select(\"div.sa_text a[href*='mnews/article']\")))\n",
    "    # print(soup.select(\"div.sa_text a[href*='mnews/article']\"))\n",
    "\n",
    "    # <a> 태그 리스트 순회하기\n",
    "    a_tag_list = soup.select(\"div.sa_text a[href*='mnews/article']\")\n",
    "    print(type(a_tag_list)) #ResultSet\n",
    "    for a_tag in a_tag_list:\n",
    "        title = a_tag.text.strip() \n",
    "        link = a_tag['href'] # href 속성값\n",
    "        print(title,link) # 제목\n",
    "else:\n",
    "    # 응답(response)이 Error 이면 status code 출력    \n",
    "    print(f'error code={res.status_code}')\n"
   ]
  },
  {
   "cell_type": "markdown",
   "id": "45640860-a449-4285-90d7-5f300292b461",
   "metadata": {},
   "source": [
    "### 1.1 뉴스제목 추출하는 함수 선언하기"
   ]
  },
  {
   "cell_type": "code",
   "execution_count": null,
   "id": "9f2e4ef8",
   "metadata": {},
   "outputs": [
    {
     "name": "stdout",
     "output_type": "stream",
     "text": [
      "=======>https://news.naver.com/section/102  사회 뉴스 <=======\n",
      "<Response [200]>\n",
      "<class 'requests.models.Response'> True\n",
      "200\n",
      "92\n",
      "<class 'bs4.element.ResultSet'>\n",
      "https://n.news.naver.com/mnews/article/052/0002177172 대법원, 마용주 대법관 임명으로 3달 만에 완전체 구성\n",
      "https://n.news.naver.com/mnews/article/comment/052/0002177172 \n",
      "https://n.news.naver.com/mnews/article/056/0011927250 대구가톨릭대병원, 신생아 학대 간호사 2명 추가 확인\n",
      "https://n.news.naver.com/mnews/article/comment/056/0011927250 \n",
      "https://n.news.naver.com/mnews/article/020/0003626818 의협 “내년 의대정원, 교육 가능한지 점검 후 확정해달라”\n",
      "https://n.news.naver.com/mnews/article/comment/020/0003626818 \n",
      "https://n.news.naver.com/mnews/article/018/0005981819 전한길 “‘尹어게인’ 지지…개헌 통해 헌재 가루 되도록 할 것”\n",
      "https://n.news.naver.com/mnews/article/comment/018/0005981819 \n",
      "https://n.news.naver.com/mnews/article/020/0003626617 백종원 오너리스크?… 더본코리아, 잇단 악재에 주가 반토막\n",
      "https://n.news.naver.com/mnews/article/comment/020/0003626617 \n",
      "https://n.news.naver.com/mnews/article/020/0003626605 [단독]“젊을수록 수익비 낮은 연금, 추가개혁 필요”\n",
      "https://n.news.naver.com/mnews/article/comment/020/0003626605 \n",
      "https://n.news.naver.com/mnews/article/056/0011927128 지상파 재허가 심사위, EBS 사업자 의견 청취 연기\n",
      "https://n.news.naver.com/mnews/article/comment/056/0011927128 \n",
      "https://n.news.naver.com/mnews/article/056/0011927272 ‘강남 학원가 마약음료’ 제조 지시한 주범, 징역 23년 확정\n",
      "https://n.news.naver.com/mnews/article/comment/056/0011927272 \n",
      "https://n.news.naver.com/mnews/article/055/0001247358 이재명, 본인 대장동 재판 출석…말 없이 법정으로\n",
      "https://n.news.naver.com/mnews/article/comment/055/0001247358 \n",
      "https://n.news.naver.com/mnews/article/025/0003432655 김동연, 9일 인천공항서 대선출마 선언… 이어 관세 대응 방미\n",
      "https://n.news.naver.com/mnews/article/comment/025/0003432655 \n",
      "https://n.news.naver.com/mnews/article/057/0001880536 '술방' 논란 재점화…보아-전현무 방송 후 규제 목소리 커져[AI뉴스피드]\n",
      "https://n.news.naver.com/mnews/article/comment/057/0001880536 \n",
      "https://n.news.naver.com/mnews/article/586/0000100934 '헌재 재판관 지명' 이완규, 국민의힘 탈당 3년 지났나…與 \"확인 불가\"\n",
      "https://n.news.naver.com/mnews/article/comment/586/0000100934 \n",
      "https://n.news.naver.com/mnews/article/032/0003362024 계엄 수사대상인 이완규···공수처에선 ‘피의자’, 경찰은 이미 소환조사\n",
      "https://n.news.naver.com/mnews/article/comment/032/0003362024 \n",
      "https://n.news.naver.com/mnews/article/081/0003531756 ‘성남도개공사 조례 청탁 혐의’ 김만배 항소심 ‘무죄’···1심 뒤집혀\n",
      "https://n.news.naver.com/mnews/article/comment/081/0003531756 \n",
      "https://n.news.naver.com/mnews/article/469/0000858338 반려견 던져 죽인 아버지에 흉기 든 20대 딸... '살인미수' 징역 3년 선고\n",
      "https://n.news.naver.com/mnews/article/comment/469/0000858338 \n",
      "https://n.news.naver.com/mnews/article/081/0003531755 [단독]검찰, 서울지방국세청 압수수색…코인업자-국세청 직원 유착 의혹 수사\n",
      "https://n.news.naver.com/mnews/article/comment/081/0003531755 \n",
      "https://n.news.naver.com/mnews/article/607/0000002570 '김건희 통화폰' 알고도 놓친 검찰...김영선 폰 11대 중 4대만 압수\n",
      "https://n.news.naver.com/mnews/article/comment/607/0000002570 \n",
      "https://n.news.naver.com/mnews/article/661/0000053248 '외벽 10m 올라' 전 연인 3층 집 창문으로 침입한  20대\n",
      "https://n.news.naver.com/mnews/article/comment/661/0000053248 \n",
      "https://n.news.naver.com/mnews/article/025/0003432703 김만배, 최윤길 前시의장 ‘대장동 뇌물’ 2심 무죄…\"정당한 정치활동\"\n",
      "https://n.news.naver.com/mnews/article/comment/025/0003432703 \n",
      "https://n.news.naver.com/mnews/article/001/0015317949 경북 구미 옥성면 산불…헬기 12대 투입, 주민에 대피문자(종합)\n",
      "https://n.news.naver.com/mnews/article/comment/001/0015317949 \n",
      "https://n.news.naver.com/mnews/article/081/0003531754 ‘현대家 3세’ 정대선·노현정 성북동 주택 42억으로 ‘뚝’\n",
      "https://n.news.naver.com/mnews/article/comment/081/0003531754 \n",
      "https://n.news.naver.com/mnews/article/003/0013171271 헌법학자들 \"한덕수 헌법재판관 지명 월권·위헌…즉시 철회해야\"\n",
      "https://n.news.naver.com/mnews/article/comment/003/0013171271 \n",
      "https://n.news.naver.com/mnews/article/003/0013171270 이준석 하버드대 졸업 맞다…경찰, 하버드 통해 공식 확인\n",
      "https://n.news.naver.com/mnews/article/comment/003/0013171270 \n",
      "https://n.news.naver.com/mnews/article/421/0008180784 대장동 개발 '성남도개공 설립조례 청탁' 김만배 항소심서 무죄로 뒤집혀(종합)\n",
      "https://n.news.naver.com/mnews/article/comment/421/0008180784 \n",
      "https://n.news.naver.com/mnews/article/057/0001880529 '성남도개공 조례 청탁 혐의' 김만배, 2심서 무죄\n",
      "https://n.news.naver.com/mnews/article/comment/057/0001880529 \n",
      "https://n.news.naver.com/mnews/article/660/0000082981 만취 상태로 26t 레미콘 몰다 주택에 '쾅'..70대 거주자 숨져\n",
      "https://n.news.naver.com/mnews/article/comment/660/0000082981 \n",
      "https://n.news.naver.com/mnews/article/421/0008180780 김태열 \"명태균이 용산을 협박하는 거 보고 감당 안 되겠다 싶어 사실 진술\"\n",
      "https://n.news.naver.com/mnews/article/comment/421/0008180780 \n",
      "https://n.news.naver.com/mnews/article/047/0002469015 \"한덕수의 대통령 참칭... 윤석열의 알박기\" 헌법학계 경악\n",
      "https://n.news.naver.com/mnews/article/comment/047/0002469015 \n",
      "https://n.news.naver.com/mnews/article/666/0000069310 현직 경찰, 채팅 앱으로 만난 여성 성추행 혐의 '긴급체포'\n",
      "https://n.news.naver.com/mnews/article/comment/666/0000069310 \n",
      "https://n.news.naver.com/mnews/article/021/0002701775 옆칸에서 ‘찰칵’…여자 화장실 숨어 몰카 찍은 20대 남성\n",
      "https://n.news.naver.com/mnews/article/comment/021/0002701775 \n",
      "https://n.news.naver.com/mnews/article/088/0000940780 의협 \"작년 2월 이전처럼 돌아가야 의료정상화\"…정부·국회에 대화 요구\n",
      "https://n.news.naver.com/mnews/article/comment/088/0000940780 \n",
      "https://n.news.naver.com/mnews/article/021/0002701774 “왜 내연녀 집 찾아가?” 아내에 흉기 휘두른 ‘적반하장’ 50대 남편\n",
      "https://n.news.naver.com/mnews/article/comment/021/0002701774 \n",
      "https://n.news.naver.com/mnews/article/057/0001880525 [단독] 가정폭력 신고받고 출동한 경찰 폭행한 남편…경찰, 구속영장 신청\n",
      "https://n.news.naver.com/mnews/article/comment/057/0001880525 \n",
      "https://n.news.naver.com/mnews/article/088/0000940779 의협 \"의료 정상화 해결해야\"…정부·국회에 대화의 장 마련 요구\n",
      "https://n.news.naver.com/mnews/article/comment/088/0000940779 \n",
      "https://n.news.naver.com/mnews/article/469/0000858333 순직 공무원 사후 특별 승진 계급 맞춰 유족 급여 더 받는다\n",
      "https://n.news.naver.com/mnews/article/comment/469/0000858333 \n",
      "https://n.news.naver.com/mnews/article/057/0001880524 [단독] 경찰 기동대 간부, 갑질 의혹으로 인사 조치…\"냉장고 청소 시키고 공금 유용\"\n",
      "https://n.news.naver.com/mnews/article/comment/057/0001880524 \n",
      "https://n.news.naver.com/mnews/article/421/0008180777 \"시커먼 연기가 도로까지\" 여수 야적장 자재 창고서 불\n",
      "https://n.news.naver.com/mnews/article/comment/421/0008180777 \n",
      "https://n.news.naver.com/mnews/article/660/0000082978 광주광역시, 'AI주도 초격차 성장도시, 광주' 위한 대선공약 제안\n",
      "https://n.news.naver.com/mnews/article/comment/660/0000082978 \n",
      "https://n.news.naver.com/mnews/article/022/0004025999 \"햄버거집 운영하는 김병현…\" 야구 중계 중 '뜬금 멘트' 무슨 일?\n",
      "https://n.news.naver.com/mnews/article/comment/022/0004025999 \n",
      "https://n.news.naver.com/mnews/article/421/0008180761 '경기도 법카 유용' 첫 공판준비기일…이재명 불출석\n",
      "https://n.news.naver.com/mnews/article/comment/421/0008180761 \n",
      "https://n.news.naver.com/mnews/article/028/0002739870 의협도 “2026 의대 모집, 증원 전인 3058명으로 확정하라”\n",
      "https://n.news.naver.com/mnews/article/comment/028/0002739870 \n",
      "https://n.news.naver.com/mnews/article/081/0003531746 재판장서 언성 높인 김영선 “김태열, 거짓말 말고 자신이 뭘 했는지 말하라”\n",
      "https://n.news.naver.com/mnews/article/comment/081/0003531746 \n",
      "https://n.news.naver.com/mnews/article/079/0004011489 강릉 옥계항서 '사상 최대 규모 마약' 적발…제23경비여단 '숨은 공신'\n",
      "https://n.news.naver.com/mnews/article/comment/079/0004011489 \n",
      "https://n.news.naver.com/mnews/article/047/0002469012 5일째 버티는 윤석열에 한남동 주민들 '진절머리'... \"빨리 나가야\"\n",
      "https://n.news.naver.com/mnews/article/comment/047/0002469012 \n",
      "https://n.news.naver.com/mnews/article/008/0005177560 \"집에 가고 싶어\" 모텔서 신고…현직 경찰 '강제추행 혐의' 긴급체포\n",
      "https://n.news.naver.com/mnews/article/comment/008/0005177560 \n",
      "https://n.news.naver.com/mnews/article/028/0002739869 울주 언양 화장산 산불도 용접 불티 때문에…50대 용의자 입건\n",
      "https://n.news.naver.com/mnews/article/comment/028/0002739869 \n"
     ]
    }
   ],
   "source": [
    "import requests\n",
    "from bs4 import BeautifulSoup\n",
    "\n",
    "section_dict = {\n",
    "    100: \"정치\",\n",
    "    101: \"경제\",\n",
    "    102: \"사회\",\n",
    "    103: \"생활/문화\",\n",
    "    104: \"세계\",\n",
    "    105: \"IT/과학\",\n",
    "}\n",
    "\n",
    "\n",
    "def print_news(sid):  # print_new(103,'생활/문화')\n",
    "    section = section_dict[sid]  # section = '생활/문화'\n",
    "    req_param = {\"sid\": sid}\n",
    "    #\n",
    "    url = f\"https://news.naver.com/section/{sid}\"\n",
    "\n",
    "    req_header = {\n",
    "        \"user-agent\": \"Mozilla/5.0 (Windows NT 10.0; Win64; x64) AppleWebKit/537.36 (KHTML, like Gecko) Chrome/135.0.0.0 Safari/537.36\"\n",
    "    }\n",
    "    res = requests.get(url, headers=req_header)\n",
    "    print(res)\n",
    "    print(type(res), res.ok)\n",
    "    print(res.status_code)\n",
    "\n",
    "    if res.ok:\n",
    "        # 응답 (response)에서 text 추출\n",
    "        html = res.text\n",
    "        # BeautifulSoup 객체 생성\n",
    "        soup = BeautifulSoup(html, \"html.parser\")\n",
    "        # CSS 선택자\n",
    "        print(len(soup.select(\"div.sa_text a[href*='mnews/article']\")))\n",
    "        # print(soup.select(\"div.sa_text a[href*='mnews/article']\"))\n",
    "        \n",
    "        print(f'=======>{url}  {section} 뉴스 <=======')\n",
    "\n",
    "        # <a> 태그 리스트 순회하기\n",
    "        a_tag_list = soup.select(\"div.sa_text a[href*='mnews/article']\")\n",
    "        print(type(a_tag_list))  # ResultSet\n",
    "        for a_tag in a_tag_list:\n",
    "            title = a_tag.text.strip()\n",
    "            link = a_tag[\"href\"]  # href 속성값\n",
    "            print(link, title)  # 제목\n",
    "    else:\n",
    "        # 응답(response)이 Error 이면 status code 출력\n",
    "        print(f\"error code={res.status_code}\")\n",
    "\n",
    "\n",
    "print_news(102)"
   ]
  },
  {
   "cell_type": "markdown",
   "id": "323196dc",
   "metadata": {},
   "source": [
    "### 2. Image 다운로드\n",
    "* referer 요청 헤더를 반드시 설정해야 한다."
   ]
  },
  {
   "cell_type": "code",
   "execution_count": 9,
   "id": "c72d6cb1",
   "metadata": {},
   "outputs": [
    {
     "name": "stdout",
     "output_type": "stream",
     "text": [
      "Writing to 20250304180412_f002752b0701a370bafcb112acb52d73_IMAG01_65.jpg(112,555 bytes)\n",
      "Writing to 20250304180412_f002752b0701a370bafcb112acb52d73_IMAG01_66.jpg(91,203 bytes)\n"
     ]
    }
   ],
   "source": [
    "import requests\n",
    "import os\n",
    "\n",
    "req_header = {\"referer\": \"https://comic.naver.com/webtoon/detail?titleId=821321&no=59&week=wed\"}\n",
    "\n",
    "img_urls = [\n",
    "    \"https://image-comic.pstatic.net/webtoon/821321/59/20250304180412_f002752b0701a370bafcb112acb52d73_IMAG01_65.jpg\",\n",
    "    \"https://image-comic.pstatic.net/webtoon/821321/59/20250304180412_f002752b0701a370bafcb112acb52d73_IMAG01_66.jpg\",\n",
    "    #'https://image-comic.pstatic.net/webtoon/798173/5/20220804112251_d97bd1e1b38f0cd022e4e3639d2926b3_IMAG01_3.jpg'\n",
    "]\n",
    "\n",
    "for img_url in img_urls:\n",
    "    # requests 의 get(url, headers) 함수 호출하기\n",
    "    res = requests.get(img_url, headers=req_header)\n",
    "    if res.ok:  \n",
    "        # binary 응답 데이터 가져오기\n",
    "        img_data = res.content\n",
    "        # url에서 파일명만 추출하기\n",
    "        filename = os.path.basename(img_url)\n",
    "        # binday data를 file에 write하기\n",
    "        with open(filename, 'wb') as file:\n",
    "            print(f'Writing to {filename}({len(img_data):,} bytes)')\n",
    "            file.write(img_data)"
   ]
  },
  {
   "cell_type": "markdown",
   "id": "e8b00a04",
   "metadata": {},
   "source": [
    "* 현재 요청된 페이지의 image 모두 다운로드 해보기"
   ]
  },
  {
   "cell_type": "code",
   "execution_count": 27,
   "id": "b30f7bf5",
   "metadata": {},
   "outputs": [
    {
     "name": "stdout",
     "output_type": "stream",
     "text": [
      "94\n",
      "94\n"
     ]
    }
   ],
   "source": [
    "import requests\n",
    "from bs4 import BeautifulSoup\n",
    "import os\n",
    "\n",
    "url = \"https://comic.naver.com/webtoon/detail?titleId=821321&no=59&week=wed\"\n",
    "req_header = {\"referer\": url}\n",
    "res = requests.get(url)\n",
    "if res.ok:\n",
    "    # jpg 파일 절대경로 url 찾기\n",
    "    soup = BeautifulSoup(res.text, \"html.parser\")\n",
    "    print(len(soup.select(\"img[src*= 'IMAG01']\")))\n",
    "    img_tags = soup.select(\"img[src*= 'IMAG01']\")\n",
    "    # img_url list\n",
    "    img_urls = []\n",
    "    for img_tag in img_tags:\n",
    "        img_url = img_tag[\"src\"]\n",
    "        img_urls.append(img_url)\n",
    "    print(len(img_urls))\n",
    "\n",
    "    # img 디렉토리 생성\n",
    "    imgdir_name = \"img\"\n",
    "    # imgdir이 없으면 생성\n",
    "    if not os.path.isdir(imgdir_name):\n",
    "        os.mkdir(imgdir_name)\n",
    "    for img_url in img_urls:\n",
    "        # requests 의 get(url, headers) 함수 호출하기\n",
    "        # binary 응답 데이터 가져오기\n",
    "        img_data = res.content\n",
    "        # url에서 파일명만 추출하기\n",
    "        filename = os.path.basename(img_url)\n",
    "        # binday data를 file에 write하기\n",
    "        path = os.path.join(os.getcwd(), imgdir_name, filename)\n",
    "        with open(path, \"wb\") as file:\n",
    "            file.write(img_data)\n",
    "else:\n",
    "    print(f\"error code = {res.status_code}\")"
   ]
  },
  {
   "cell_type": "markdown",
   "id": "2ac9f5f9",
   "metadata": {},
   "source": [
    "### 3. 파일 업로드 하기\n",
    "* http://httpbin.org/post 업로드 요청을 할 수 있는 url"
   ]
  },
  {
   "cell_type": "code",
   "execution_count": 38,
   "id": "04da4790",
   "metadata": {},
   "outputs": [
    {
     "name": "stdout",
     "output_type": "stream",
     "text": [
      "{'img1': <_io.BufferedReader name='f1.jpg'>, 'img2': <_io.BufferedReader name='f2.jpg'>}\n",
      "200\n",
      "\n"
     ]
    }
   ],
   "source": [
    "import requests\n",
    "\n",
    "upload_files = {\n",
    "    'img1' : open('f1.jpg', 'rb'),\n",
    "    'img2' : open('f2.jpg', 'rb'),\n",
    "    \n",
    "}\n",
    "print(upload_files)\n",
    "\n",
    "url = 'http://httpbin.org/post'\n",
    "# file 업로드 하려면 requests의 post 함수에 files 속성을 사용합니다.\n",
    "res = requests.post(url, files=upload_files)\n",
    "print(res.status_code)\n",
    "#print(res.json())\n",
    "print(res.json()['files']['img1']) # f1.jpg\n"
   ]
  },
  {
   "cell_type": "markdown",
   "id": "7ad65f12",
   "metadata": {},
   "source": [
    "### 4. 캡챠(이미지) API 호출하기\n",
    "* urllib 사용\n",
    "* 1. 캡차 키 발급 요청\n",
    "  2. 캡차 이미지 요청\n",
    "  3. 사용자 입력값 검증 요청"
   ]
  },
  {
   "cell_type": "code",
   "execution_count": null,
   "id": "bc4ae360-e772-4873-8642-d3494edd34e1",
   "metadata": {},
   "outputs": [
    {
     "ename": "UnicodeEncodeError",
     "evalue": "'latin-1' codec can't encode characters in position 25-31: ordinal not in range(256)",
     "output_type": "error",
     "traceback": [
      "\u001b[1;31m---------------------------------------------------------------------------\u001b[0m",
      "\u001b[1;31mUnicodeEncodeError\u001b[0m                        Traceback (most recent call last)",
      "Cell \u001b[1;32mIn[2], line 14\u001b[0m\n\u001b[0;32m     12\u001b[0m request\u001b[38;5;241m.\u001b[39madd_header(\u001b[38;5;124m\"\u001b[39m\u001b[38;5;124mX-Naver-Client-Id\u001b[39m\u001b[38;5;124m\"\u001b[39m,client_id)\n\u001b[0;32m     13\u001b[0m request\u001b[38;5;241m.\u001b[39madd_header(\u001b[38;5;124m\"\u001b[39m\u001b[38;5;124mX-Naver-Client-Secret\u001b[39m\u001b[38;5;124m\"\u001b[39m,client_secret)\n\u001b[1;32m---> 14\u001b[0m response \u001b[38;5;241m=\u001b[39m urllib\u001b[38;5;241m.\u001b[39mrequest\u001b[38;5;241m.\u001b[39murlopen(request)\n\u001b[0;32m     15\u001b[0m rescode \u001b[38;5;241m=\u001b[39m response\u001b[38;5;241m.\u001b[39mgetcode()\n\u001b[0;32m     16\u001b[0m \u001b[38;5;28;01mif\u001b[39;00m(rescode\u001b[38;5;241m==\u001b[39m\u001b[38;5;241m200\u001b[39m):\n",
      "File \u001b[1;32mc:\\Users\\user\\anaconda3\\Lib\\urllib\\request.py:215\u001b[0m, in \u001b[0;36murlopen\u001b[1;34m(url, data, timeout, cafile, capath, cadefault, context)\u001b[0m\n\u001b[0;32m    213\u001b[0m \u001b[38;5;28;01melse\u001b[39;00m:\n\u001b[0;32m    214\u001b[0m     opener \u001b[38;5;241m=\u001b[39m _opener\n\u001b[1;32m--> 215\u001b[0m \u001b[38;5;28;01mreturn\u001b[39;00m opener\u001b[38;5;241m.\u001b[39mopen(url, data, timeout)\n",
      "File \u001b[1;32mc:\\Users\\user\\anaconda3\\Lib\\urllib\\request.py:515\u001b[0m, in \u001b[0;36mOpenerDirector.open\u001b[1;34m(self, fullurl, data, timeout)\u001b[0m\n\u001b[0;32m    512\u001b[0m     req \u001b[38;5;241m=\u001b[39m meth(req)\n\u001b[0;32m    514\u001b[0m sys\u001b[38;5;241m.\u001b[39maudit(\u001b[38;5;124m'\u001b[39m\u001b[38;5;124murllib.Request\u001b[39m\u001b[38;5;124m'\u001b[39m, req\u001b[38;5;241m.\u001b[39mfull_url, req\u001b[38;5;241m.\u001b[39mdata, req\u001b[38;5;241m.\u001b[39mheaders, req\u001b[38;5;241m.\u001b[39mget_method())\n\u001b[1;32m--> 515\u001b[0m response \u001b[38;5;241m=\u001b[39m \u001b[38;5;28mself\u001b[39m\u001b[38;5;241m.\u001b[39m_open(req, data)\n\u001b[0;32m    517\u001b[0m \u001b[38;5;66;03m# post-process response\u001b[39;00m\n\u001b[0;32m    518\u001b[0m meth_name \u001b[38;5;241m=\u001b[39m protocol\u001b[38;5;241m+\u001b[39m\u001b[38;5;124m\"\u001b[39m\u001b[38;5;124m_response\u001b[39m\u001b[38;5;124m\"\u001b[39m\n",
      "File \u001b[1;32mc:\\Users\\user\\anaconda3\\Lib\\urllib\\request.py:532\u001b[0m, in \u001b[0;36mOpenerDirector._open\u001b[1;34m(self, req, data)\u001b[0m\n\u001b[0;32m    529\u001b[0m     \u001b[38;5;28;01mreturn\u001b[39;00m result\n\u001b[0;32m    531\u001b[0m protocol \u001b[38;5;241m=\u001b[39m req\u001b[38;5;241m.\u001b[39mtype\n\u001b[1;32m--> 532\u001b[0m result \u001b[38;5;241m=\u001b[39m \u001b[38;5;28mself\u001b[39m\u001b[38;5;241m.\u001b[39m_call_chain(\u001b[38;5;28mself\u001b[39m\u001b[38;5;241m.\u001b[39mhandle_open, protocol, protocol \u001b[38;5;241m+\u001b[39m\n\u001b[0;32m    533\u001b[0m                           \u001b[38;5;124m'\u001b[39m\u001b[38;5;124m_open\u001b[39m\u001b[38;5;124m'\u001b[39m, req)\n\u001b[0;32m    534\u001b[0m \u001b[38;5;28;01mif\u001b[39;00m result:\n\u001b[0;32m    535\u001b[0m     \u001b[38;5;28;01mreturn\u001b[39;00m result\n",
      "File \u001b[1;32mc:\\Users\\user\\anaconda3\\Lib\\urllib\\request.py:492\u001b[0m, in \u001b[0;36mOpenerDirector._call_chain\u001b[1;34m(self, chain, kind, meth_name, *args)\u001b[0m\n\u001b[0;32m    490\u001b[0m \u001b[38;5;28;01mfor\u001b[39;00m handler \u001b[38;5;129;01min\u001b[39;00m handlers:\n\u001b[0;32m    491\u001b[0m     func \u001b[38;5;241m=\u001b[39m \u001b[38;5;28mgetattr\u001b[39m(handler, meth_name)\n\u001b[1;32m--> 492\u001b[0m     result \u001b[38;5;241m=\u001b[39m func(\u001b[38;5;241m*\u001b[39margs)\n\u001b[0;32m    493\u001b[0m     \u001b[38;5;28;01mif\u001b[39;00m result \u001b[38;5;129;01mis\u001b[39;00m \u001b[38;5;129;01mnot\u001b[39;00m \u001b[38;5;28;01mNone\u001b[39;00m:\n\u001b[0;32m    494\u001b[0m         \u001b[38;5;28;01mreturn\u001b[39;00m result\n",
      "File \u001b[1;32mc:\\Users\\user\\anaconda3\\Lib\\urllib\\request.py:1392\u001b[0m, in \u001b[0;36mHTTPSHandler.https_open\u001b[1;34m(self, req)\u001b[0m\n\u001b[0;32m   1391\u001b[0m \u001b[38;5;28;01mdef\u001b[39;00m \u001b[38;5;21mhttps_open\u001b[39m(\u001b[38;5;28mself\u001b[39m, req):\n\u001b[1;32m-> 1392\u001b[0m     \u001b[38;5;28;01mreturn\u001b[39;00m \u001b[38;5;28mself\u001b[39m\u001b[38;5;241m.\u001b[39mdo_open(http\u001b[38;5;241m.\u001b[39mclient\u001b[38;5;241m.\u001b[39mHTTPSConnection, req,\n\u001b[0;32m   1393\u001b[0m                         context\u001b[38;5;241m=\u001b[39m\u001b[38;5;28mself\u001b[39m\u001b[38;5;241m.\u001b[39m_context)\n",
      "File \u001b[1;32mc:\\Users\\user\\anaconda3\\Lib\\urllib\\request.py:1344\u001b[0m, in \u001b[0;36mAbstractHTTPHandler.do_open\u001b[1;34m(self, http_class, req, **http_conn_args)\u001b[0m\n\u001b[0;32m   1342\u001b[0m \u001b[38;5;28;01mtry\u001b[39;00m:\n\u001b[0;32m   1343\u001b[0m     \u001b[38;5;28;01mtry\u001b[39;00m:\n\u001b[1;32m-> 1344\u001b[0m         h\u001b[38;5;241m.\u001b[39mrequest(req\u001b[38;5;241m.\u001b[39mget_method(), req\u001b[38;5;241m.\u001b[39mselector, req\u001b[38;5;241m.\u001b[39mdata, headers,\n\u001b[0;32m   1345\u001b[0m                   encode_chunked\u001b[38;5;241m=\u001b[39mreq\u001b[38;5;241m.\u001b[39mhas_header(\u001b[38;5;124m'\u001b[39m\u001b[38;5;124mTransfer-encoding\u001b[39m\u001b[38;5;124m'\u001b[39m))\n\u001b[0;32m   1346\u001b[0m     \u001b[38;5;28;01mexcept\u001b[39;00m \u001b[38;5;167;01mOSError\u001b[39;00m \u001b[38;5;28;01mas\u001b[39;00m err: \u001b[38;5;66;03m# timeout error\u001b[39;00m\n\u001b[0;32m   1347\u001b[0m         \u001b[38;5;28;01mraise\u001b[39;00m URLError(err)\n",
      "File \u001b[1;32mc:\\Users\\user\\anaconda3\\Lib\\http\\client.py:1336\u001b[0m, in \u001b[0;36mHTTPConnection.request\u001b[1;34m(self, method, url, body, headers, encode_chunked)\u001b[0m\n\u001b[0;32m   1333\u001b[0m \u001b[38;5;28;01mdef\u001b[39;00m \u001b[38;5;21mrequest\u001b[39m(\u001b[38;5;28mself\u001b[39m, method, url, body\u001b[38;5;241m=\u001b[39m\u001b[38;5;28;01mNone\u001b[39;00m, headers\u001b[38;5;241m=\u001b[39m{}, \u001b[38;5;241m*\u001b[39m,\n\u001b[0;32m   1334\u001b[0m             encode_chunked\u001b[38;5;241m=\u001b[39m\u001b[38;5;28;01mFalse\u001b[39;00m):\n\u001b[0;32m   1335\u001b[0m \u001b[38;5;250m    \u001b[39m\u001b[38;5;124;03m\"\"\"Send a complete request to the server.\"\"\"\u001b[39;00m\n\u001b[1;32m-> 1336\u001b[0m     \u001b[38;5;28mself\u001b[39m\u001b[38;5;241m.\u001b[39m_send_request(method, url, body, headers, encode_chunked)\n",
      "File \u001b[1;32mc:\\Users\\user\\anaconda3\\Lib\\http\\client.py:1377\u001b[0m, in \u001b[0;36mHTTPConnection._send_request\u001b[1;34m(self, method, url, body, headers, encode_chunked)\u001b[0m\n\u001b[0;32m   1374\u001b[0m     encode_chunked \u001b[38;5;241m=\u001b[39m \u001b[38;5;28;01mFalse\u001b[39;00m\n\u001b[0;32m   1376\u001b[0m \u001b[38;5;28;01mfor\u001b[39;00m hdr, value \u001b[38;5;129;01min\u001b[39;00m headers\u001b[38;5;241m.\u001b[39mitems():\n\u001b[1;32m-> 1377\u001b[0m     \u001b[38;5;28mself\u001b[39m\u001b[38;5;241m.\u001b[39mputheader(hdr, value)\n\u001b[0;32m   1378\u001b[0m \u001b[38;5;28;01mif\u001b[39;00m \u001b[38;5;28misinstance\u001b[39m(body, \u001b[38;5;28mstr\u001b[39m):\n\u001b[0;32m   1379\u001b[0m     \u001b[38;5;66;03m# RFC 2616 Section 3.7.1 says that text default has a\u001b[39;00m\n\u001b[0;32m   1380\u001b[0m     \u001b[38;5;66;03m# default charset of iso-8859-1.\u001b[39;00m\n\u001b[0;32m   1381\u001b[0m     body \u001b[38;5;241m=\u001b[39m _encode(body, \u001b[38;5;124m'\u001b[39m\u001b[38;5;124mbody\u001b[39m\u001b[38;5;124m'\u001b[39m)\n",
      "File \u001b[1;32mc:\\Users\\user\\anaconda3\\Lib\\http\\client.py:1309\u001b[0m, in \u001b[0;36mHTTPConnection.putheader\u001b[1;34m(self, header, *values)\u001b[0m\n\u001b[0;32m   1307\u001b[0m \u001b[38;5;28;01mfor\u001b[39;00m i, one_value \u001b[38;5;129;01min\u001b[39;00m \u001b[38;5;28menumerate\u001b[39m(values):\n\u001b[0;32m   1308\u001b[0m     \u001b[38;5;28;01mif\u001b[39;00m \u001b[38;5;28mhasattr\u001b[39m(one_value, \u001b[38;5;124m'\u001b[39m\u001b[38;5;124mencode\u001b[39m\u001b[38;5;124m'\u001b[39m):\n\u001b[1;32m-> 1309\u001b[0m         values[i] \u001b[38;5;241m=\u001b[39m one_value\u001b[38;5;241m.\u001b[39mencode(\u001b[38;5;124m'\u001b[39m\u001b[38;5;124mlatin-1\u001b[39m\u001b[38;5;124m'\u001b[39m)\n\u001b[0;32m   1310\u001b[0m     \u001b[38;5;28;01melif\u001b[39;00m \u001b[38;5;28misinstance\u001b[39m(one_value, \u001b[38;5;28mint\u001b[39m):\n\u001b[0;32m   1311\u001b[0m         values[i] \u001b[38;5;241m=\u001b[39m \u001b[38;5;28mstr\u001b[39m(one_value)\u001b[38;5;241m.\u001b[39mencode(\u001b[38;5;124m'\u001b[39m\u001b[38;5;124mascii\u001b[39m\u001b[38;5;124m'\u001b[39m)\n",
      "\u001b[1;31mUnicodeEncodeError\u001b[0m: 'latin-1' codec can't encode characters in position 25-31: ordinal not in range(256)"
     ]
    }
   ],
   "source": [
    "# 캡차 키 발급 요청\n",
    "import os\n",
    "import sys\n",
    "import urllib.request\n",
    "from dotenv import load_dotenv\n",
    "load_dotenv()\n",
    "client_id = os.getenv(\"NAVER_CLIENT_ID\") # 개발자센터에서 발급받은 Client ID 값\n",
    "client_secret = os.getenv(\"NAVER_CLIENT_SECRET\") # 개발자센터에서 발급받은 Client Secret 값\n",
    "code = \"0\"\n",
    "url = \"https://openapi.naver.com/v1/captcha/nkey?code=\" + code\n",
    "request = urllib.request.Request(url)\n",
    "request.add_header(\"X-Naver-Client-Id\",client_id)\n",
    "request.add_header(\"X-Naver-Client-Secret\",client_secret)\n",
    "response = urllib.request.urlopen(request)\n",
    "rescode = response.getcode()\n",
    "if(rescode==200):\n",
    "    response_body = response.read()\n",
    "    print(response_body.decode('utf-8'))\n",
    "else:\n",
    "    print(\"Error Code:\" + rescode)"
   ]
  },
  {
   "cell_type": "code",
   "execution_count": null,
   "id": "7b95b6a0-c218-4792-82a6-da4d80872071",
   "metadata": {},
   "outputs": [
    {
     "ename": "UnicodeEncodeError",
     "evalue": "'latin-1' codec can't encode characters in position 25-31: ordinal not in range(256)",
     "output_type": "error",
     "traceback": [
      "\u001b[1;31m---------------------------------------------------------------------------\u001b[0m",
      "\u001b[1;31mUnicodeEncodeError\u001b[0m                        Traceback (most recent call last)",
      "Cell \u001b[1;32mIn[2], line 14\u001b[0m\n\u001b[0;32m     12\u001b[0m request\u001b[38;5;241m.\u001b[39madd_header(\u001b[38;5;124m\"\u001b[39m\u001b[38;5;124mX-Naver-Client-Id\u001b[39m\u001b[38;5;124m\"\u001b[39m,client_id)\n\u001b[0;32m     13\u001b[0m request\u001b[38;5;241m.\u001b[39madd_header(\u001b[38;5;124m\"\u001b[39m\u001b[38;5;124mX-Naver-Client-Secret\u001b[39m\u001b[38;5;124m\"\u001b[39m,client_secret)\n\u001b[1;32m---> 14\u001b[0m response \u001b[38;5;241m=\u001b[39m urllib\u001b[38;5;241m.\u001b[39mrequest\u001b[38;5;241m.\u001b[39murlopen(request)\n\u001b[0;32m     15\u001b[0m rescode \u001b[38;5;241m=\u001b[39m response\u001b[38;5;241m.\u001b[39mgetcode()\n\u001b[0;32m     16\u001b[0m \u001b[38;5;28;01mif\u001b[39;00m(rescode\u001b[38;5;241m==\u001b[39m\u001b[38;5;241m200\u001b[39m):\n",
      "File \u001b[1;32mc:\\Users\\user\\anaconda3\\Lib\\urllib\\request.py:215\u001b[0m, in \u001b[0;36murlopen\u001b[1;34m(url, data, timeout, cafile, capath, cadefault, context)\u001b[0m\n\u001b[0;32m    213\u001b[0m \u001b[38;5;28;01melse\u001b[39;00m:\n\u001b[0;32m    214\u001b[0m     opener \u001b[38;5;241m=\u001b[39m _opener\n\u001b[1;32m--> 215\u001b[0m \u001b[38;5;28;01mreturn\u001b[39;00m opener\u001b[38;5;241m.\u001b[39mopen(url, data, timeout)\n",
      "File \u001b[1;32mc:\\Users\\user\\anaconda3\\Lib\\urllib\\request.py:515\u001b[0m, in \u001b[0;36mOpenerDirector.open\u001b[1;34m(self, fullurl, data, timeout)\u001b[0m\n\u001b[0;32m    512\u001b[0m     req \u001b[38;5;241m=\u001b[39m meth(req)\n\u001b[0;32m    514\u001b[0m sys\u001b[38;5;241m.\u001b[39maudit(\u001b[38;5;124m'\u001b[39m\u001b[38;5;124murllib.Request\u001b[39m\u001b[38;5;124m'\u001b[39m, req\u001b[38;5;241m.\u001b[39mfull_url, req\u001b[38;5;241m.\u001b[39mdata, req\u001b[38;5;241m.\u001b[39mheaders, req\u001b[38;5;241m.\u001b[39mget_method())\n\u001b[1;32m--> 515\u001b[0m response \u001b[38;5;241m=\u001b[39m \u001b[38;5;28mself\u001b[39m\u001b[38;5;241m.\u001b[39m_open(req, data)\n\u001b[0;32m    517\u001b[0m \u001b[38;5;66;03m# post-process response\u001b[39;00m\n\u001b[0;32m    518\u001b[0m meth_name \u001b[38;5;241m=\u001b[39m protocol\u001b[38;5;241m+\u001b[39m\u001b[38;5;124m\"\u001b[39m\u001b[38;5;124m_response\u001b[39m\u001b[38;5;124m\"\u001b[39m\n",
      "File \u001b[1;32mc:\\Users\\user\\anaconda3\\Lib\\urllib\\request.py:532\u001b[0m, in \u001b[0;36mOpenerDirector._open\u001b[1;34m(self, req, data)\u001b[0m\n\u001b[0;32m    529\u001b[0m     \u001b[38;5;28;01mreturn\u001b[39;00m result\n\u001b[0;32m    531\u001b[0m protocol \u001b[38;5;241m=\u001b[39m req\u001b[38;5;241m.\u001b[39mtype\n\u001b[1;32m--> 532\u001b[0m result \u001b[38;5;241m=\u001b[39m \u001b[38;5;28mself\u001b[39m\u001b[38;5;241m.\u001b[39m_call_chain(\u001b[38;5;28mself\u001b[39m\u001b[38;5;241m.\u001b[39mhandle_open, protocol, protocol \u001b[38;5;241m+\u001b[39m\n\u001b[0;32m    533\u001b[0m                           \u001b[38;5;124m'\u001b[39m\u001b[38;5;124m_open\u001b[39m\u001b[38;5;124m'\u001b[39m, req)\n\u001b[0;32m    534\u001b[0m \u001b[38;5;28;01mif\u001b[39;00m result:\n\u001b[0;32m    535\u001b[0m     \u001b[38;5;28;01mreturn\u001b[39;00m result\n",
      "File \u001b[1;32mc:\\Users\\user\\anaconda3\\Lib\\urllib\\request.py:492\u001b[0m, in \u001b[0;36mOpenerDirector._call_chain\u001b[1;34m(self, chain, kind, meth_name, *args)\u001b[0m\n\u001b[0;32m    490\u001b[0m \u001b[38;5;28;01mfor\u001b[39;00m handler \u001b[38;5;129;01min\u001b[39;00m handlers:\n\u001b[0;32m    491\u001b[0m     func \u001b[38;5;241m=\u001b[39m \u001b[38;5;28mgetattr\u001b[39m(handler, meth_name)\n\u001b[1;32m--> 492\u001b[0m     result \u001b[38;5;241m=\u001b[39m func(\u001b[38;5;241m*\u001b[39margs)\n\u001b[0;32m    493\u001b[0m     \u001b[38;5;28;01mif\u001b[39;00m result \u001b[38;5;129;01mis\u001b[39;00m \u001b[38;5;129;01mnot\u001b[39;00m \u001b[38;5;28;01mNone\u001b[39;00m:\n\u001b[0;32m    494\u001b[0m         \u001b[38;5;28;01mreturn\u001b[39;00m result\n",
      "File \u001b[1;32mc:\\Users\\user\\anaconda3\\Lib\\urllib\\request.py:1392\u001b[0m, in \u001b[0;36mHTTPSHandler.https_open\u001b[1;34m(self, req)\u001b[0m\n\u001b[0;32m   1391\u001b[0m \u001b[38;5;28;01mdef\u001b[39;00m \u001b[38;5;21mhttps_open\u001b[39m(\u001b[38;5;28mself\u001b[39m, req):\n\u001b[1;32m-> 1392\u001b[0m     \u001b[38;5;28;01mreturn\u001b[39;00m \u001b[38;5;28mself\u001b[39m\u001b[38;5;241m.\u001b[39mdo_open(http\u001b[38;5;241m.\u001b[39mclient\u001b[38;5;241m.\u001b[39mHTTPSConnection, req,\n\u001b[0;32m   1393\u001b[0m                         context\u001b[38;5;241m=\u001b[39m\u001b[38;5;28mself\u001b[39m\u001b[38;5;241m.\u001b[39m_context)\n",
      "File \u001b[1;32mc:\\Users\\user\\anaconda3\\Lib\\urllib\\request.py:1344\u001b[0m, in \u001b[0;36mAbstractHTTPHandler.do_open\u001b[1;34m(self, http_class, req, **http_conn_args)\u001b[0m\n\u001b[0;32m   1342\u001b[0m \u001b[38;5;28;01mtry\u001b[39;00m:\n\u001b[0;32m   1343\u001b[0m     \u001b[38;5;28;01mtry\u001b[39;00m:\n\u001b[1;32m-> 1344\u001b[0m         h\u001b[38;5;241m.\u001b[39mrequest(req\u001b[38;5;241m.\u001b[39mget_method(), req\u001b[38;5;241m.\u001b[39mselector, req\u001b[38;5;241m.\u001b[39mdata, headers,\n\u001b[0;32m   1345\u001b[0m                   encode_chunked\u001b[38;5;241m=\u001b[39mreq\u001b[38;5;241m.\u001b[39mhas_header(\u001b[38;5;124m'\u001b[39m\u001b[38;5;124mTransfer-encoding\u001b[39m\u001b[38;5;124m'\u001b[39m))\n\u001b[0;32m   1346\u001b[0m     \u001b[38;5;28;01mexcept\u001b[39;00m \u001b[38;5;167;01mOSError\u001b[39;00m \u001b[38;5;28;01mas\u001b[39;00m err: \u001b[38;5;66;03m# timeout error\u001b[39;00m\n\u001b[0;32m   1347\u001b[0m         \u001b[38;5;28;01mraise\u001b[39;00m URLError(err)\n",
      "File \u001b[1;32mc:\\Users\\user\\anaconda3\\Lib\\http\\client.py:1336\u001b[0m, in \u001b[0;36mHTTPConnection.request\u001b[1;34m(self, method, url, body, headers, encode_chunked)\u001b[0m\n\u001b[0;32m   1333\u001b[0m \u001b[38;5;28;01mdef\u001b[39;00m \u001b[38;5;21mrequest\u001b[39m(\u001b[38;5;28mself\u001b[39m, method, url, body\u001b[38;5;241m=\u001b[39m\u001b[38;5;28;01mNone\u001b[39;00m, headers\u001b[38;5;241m=\u001b[39m{}, \u001b[38;5;241m*\u001b[39m,\n\u001b[0;32m   1334\u001b[0m             encode_chunked\u001b[38;5;241m=\u001b[39m\u001b[38;5;28;01mFalse\u001b[39;00m):\n\u001b[0;32m   1335\u001b[0m \u001b[38;5;250m    \u001b[39m\u001b[38;5;124;03m\"\"\"Send a complete request to the server.\"\"\"\u001b[39;00m\n\u001b[1;32m-> 1336\u001b[0m     \u001b[38;5;28mself\u001b[39m\u001b[38;5;241m.\u001b[39m_send_request(method, url, body, headers, encode_chunked)\n",
      "File \u001b[1;32mc:\\Users\\user\\anaconda3\\Lib\\http\\client.py:1377\u001b[0m, in \u001b[0;36mHTTPConnection._send_request\u001b[1;34m(self, method, url, body, headers, encode_chunked)\u001b[0m\n\u001b[0;32m   1374\u001b[0m     encode_chunked \u001b[38;5;241m=\u001b[39m \u001b[38;5;28;01mFalse\u001b[39;00m\n\u001b[0;32m   1376\u001b[0m \u001b[38;5;28;01mfor\u001b[39;00m hdr, value \u001b[38;5;129;01min\u001b[39;00m headers\u001b[38;5;241m.\u001b[39mitems():\n\u001b[1;32m-> 1377\u001b[0m     \u001b[38;5;28mself\u001b[39m\u001b[38;5;241m.\u001b[39mputheader(hdr, value)\n\u001b[0;32m   1378\u001b[0m \u001b[38;5;28;01mif\u001b[39;00m \u001b[38;5;28misinstance\u001b[39m(body, \u001b[38;5;28mstr\u001b[39m):\n\u001b[0;32m   1379\u001b[0m     \u001b[38;5;66;03m# RFC 2616 Section 3.7.1 says that text default has a\u001b[39;00m\n\u001b[0;32m   1380\u001b[0m     \u001b[38;5;66;03m# default charset of iso-8859-1.\u001b[39;00m\n\u001b[0;32m   1381\u001b[0m     body \u001b[38;5;241m=\u001b[39m _encode(body, \u001b[38;5;124m'\u001b[39m\u001b[38;5;124mbody\u001b[39m\u001b[38;5;124m'\u001b[39m)\n",
      "File \u001b[1;32mc:\\Users\\user\\anaconda3\\Lib\\http\\client.py:1309\u001b[0m, in \u001b[0;36mHTTPConnection.putheader\u001b[1;34m(self, header, *values)\u001b[0m\n\u001b[0;32m   1307\u001b[0m \u001b[38;5;28;01mfor\u001b[39;00m i, one_value \u001b[38;5;129;01min\u001b[39;00m \u001b[38;5;28menumerate\u001b[39m(values):\n\u001b[0;32m   1308\u001b[0m     \u001b[38;5;28;01mif\u001b[39;00m \u001b[38;5;28mhasattr\u001b[39m(one_value, \u001b[38;5;124m'\u001b[39m\u001b[38;5;124mencode\u001b[39m\u001b[38;5;124m'\u001b[39m):\n\u001b[1;32m-> 1309\u001b[0m         values[i] \u001b[38;5;241m=\u001b[39m one_value\u001b[38;5;241m.\u001b[39mencode(\u001b[38;5;124m'\u001b[39m\u001b[38;5;124mlatin-1\u001b[39m\u001b[38;5;124m'\u001b[39m)\n\u001b[0;32m   1310\u001b[0m     \u001b[38;5;28;01melif\u001b[39;00m \u001b[38;5;28misinstance\u001b[39m(one_value, \u001b[38;5;28mint\u001b[39m):\n\u001b[0;32m   1311\u001b[0m         values[i] \u001b[38;5;241m=\u001b[39m \u001b[38;5;28mstr\u001b[39m(one_value)\u001b[38;5;241m.\u001b[39mencode(\u001b[38;5;124m'\u001b[39m\u001b[38;5;124mascii\u001b[39m\u001b[38;5;124m'\u001b[39m)\n",
      "\u001b[1;31mUnicodeEncodeError\u001b[0m: 'latin-1' codec can't encode characters in position 25-31: ordinal not in range(256)"
     ]
    }
   ],
   "source": [
    "# 캡차 이미지 요청\n",
    "import os\n",
    "import sys\n",
    "import urllib.request\n",
    "from dotenv import load_dotenv\n",
    "load_dotenv()\n",
    "client_id = os.getenv(\"NAVER_CLIENT_ID\") # 개발자센터에서 발급받은 Client ID 값\n",
    "client_secret = os.getenv(\"NAVER_CLIENT_SECRET\") # 개발자센터에서 발급받은 Client Secret 값\n",
    "key = os.getenv(\"NAVER_CAPTCHA_KEY\") # 캡차 Key 값\n",
    "url = \"https://openapi.naver.com/v1/captcha/ncaptcha.bin?key=\" + key\n",
    "request = urllib.request.Request(url)\n",
    "request.add_header(\"X-Naver-Client-Id\",client_id)\n",
    "request.add_header(\"X-Naver-Client-Secret\",client_secret)\n",
    "response = urllib.request.urlopen(request)\n",
    "rescode = response.getcode()\n",
    "if(rescode==200):\n",
    "    print(\"캡차 이미지 저장\")\n",
    "    response_body = response.read()\n",
    "    with open('captcha.jpg', 'wb') as f:\n",
    "        f.write(response_body)\n",
    "else:\n",
    "    print(\"Error Code:\" + rescode)"
   ]
  },
  {
   "cell_type": "code",
   "execution_count": null,
   "id": "a79076af-2cd0-4de2-8301-316b9130c55e",
   "metadata": {},
   "outputs": [
    {
     "ename": "HTTPError",
     "evalue": "HTTP Error 403: Forbidden",
     "output_type": "error",
     "traceback": [
      "\u001b[1;31m---------------------------------------------------------------------------\u001b[0m",
      "\u001b[1;31mHTTPError\u001b[0m                                 Traceback (most recent call last)",
      "Cell \u001b[1;32mIn[50], line 16\u001b[0m\n\u001b[0;32m     14\u001b[0m request\u001b[38;5;241m.\u001b[39madd_header(\u001b[38;5;124m\"\u001b[39m\u001b[38;5;124mX-Naver-Client-Id\u001b[39m\u001b[38;5;124m\"\u001b[39m,client_id)\n\u001b[0;32m     15\u001b[0m request\u001b[38;5;241m.\u001b[39madd_header(\u001b[38;5;124m\"\u001b[39m\u001b[38;5;124mX-Naver-Client-Secret\u001b[39m\u001b[38;5;124m\"\u001b[39m,client_secret)\n\u001b[1;32m---> 16\u001b[0m response \u001b[38;5;241m=\u001b[39m urllib\u001b[38;5;241m.\u001b[39mrequest\u001b[38;5;241m.\u001b[39murlopen(request)\n\u001b[0;32m     17\u001b[0m rescode \u001b[38;5;241m=\u001b[39m response\u001b[38;5;241m.\u001b[39mgetcode()\n\u001b[0;32m     18\u001b[0m \u001b[38;5;28;01mif\u001b[39;00m(rescode\u001b[38;5;241m==\u001b[39m\u001b[38;5;241m200\u001b[39m):\n",
      "File \u001b[1;32mc:\\Users\\user\\anaconda3\\Lib\\urllib\\request.py:215\u001b[0m, in \u001b[0;36murlopen\u001b[1;34m(url, data, timeout, cafile, capath, cadefault, context)\u001b[0m\n\u001b[0;32m    213\u001b[0m \u001b[38;5;28;01melse\u001b[39;00m:\n\u001b[0;32m    214\u001b[0m     opener \u001b[38;5;241m=\u001b[39m _opener\n\u001b[1;32m--> 215\u001b[0m \u001b[38;5;28;01mreturn\u001b[39;00m opener\u001b[38;5;241m.\u001b[39mopen(url, data, timeout)\n",
      "File \u001b[1;32mc:\\Users\\user\\anaconda3\\Lib\\urllib\\request.py:521\u001b[0m, in \u001b[0;36mOpenerDirector.open\u001b[1;34m(self, fullurl, data, timeout)\u001b[0m\n\u001b[0;32m    519\u001b[0m \u001b[38;5;28;01mfor\u001b[39;00m processor \u001b[38;5;129;01min\u001b[39;00m \u001b[38;5;28mself\u001b[39m\u001b[38;5;241m.\u001b[39mprocess_response\u001b[38;5;241m.\u001b[39mget(protocol, []):\n\u001b[0;32m    520\u001b[0m     meth \u001b[38;5;241m=\u001b[39m \u001b[38;5;28mgetattr\u001b[39m(processor, meth_name)\n\u001b[1;32m--> 521\u001b[0m     response \u001b[38;5;241m=\u001b[39m meth(req, response)\n\u001b[0;32m    523\u001b[0m \u001b[38;5;28;01mreturn\u001b[39;00m response\n",
      "File \u001b[1;32mc:\\Users\\user\\anaconda3\\Lib\\urllib\\request.py:630\u001b[0m, in \u001b[0;36mHTTPErrorProcessor.http_response\u001b[1;34m(self, request, response)\u001b[0m\n\u001b[0;32m    627\u001b[0m \u001b[38;5;66;03m# According to RFC 2616, \"2xx\" code indicates that the client's\u001b[39;00m\n\u001b[0;32m    628\u001b[0m \u001b[38;5;66;03m# request was successfully received, understood, and accepted.\u001b[39;00m\n\u001b[0;32m    629\u001b[0m \u001b[38;5;28;01mif\u001b[39;00m \u001b[38;5;129;01mnot\u001b[39;00m (\u001b[38;5;241m200\u001b[39m \u001b[38;5;241m<\u001b[39m\u001b[38;5;241m=\u001b[39m code \u001b[38;5;241m<\u001b[39m \u001b[38;5;241m300\u001b[39m):\n\u001b[1;32m--> 630\u001b[0m     response \u001b[38;5;241m=\u001b[39m \u001b[38;5;28mself\u001b[39m\u001b[38;5;241m.\u001b[39mparent\u001b[38;5;241m.\u001b[39merror(\n\u001b[0;32m    631\u001b[0m         \u001b[38;5;124m'\u001b[39m\u001b[38;5;124mhttp\u001b[39m\u001b[38;5;124m'\u001b[39m, request, response, code, msg, hdrs)\n\u001b[0;32m    633\u001b[0m \u001b[38;5;28;01mreturn\u001b[39;00m response\n",
      "File \u001b[1;32mc:\\Users\\user\\anaconda3\\Lib\\urllib\\request.py:559\u001b[0m, in \u001b[0;36mOpenerDirector.error\u001b[1;34m(self, proto, *args)\u001b[0m\n\u001b[0;32m    557\u001b[0m \u001b[38;5;28;01mif\u001b[39;00m http_err:\n\u001b[0;32m    558\u001b[0m     args \u001b[38;5;241m=\u001b[39m (\u001b[38;5;28mdict\u001b[39m, \u001b[38;5;124m'\u001b[39m\u001b[38;5;124mdefault\u001b[39m\u001b[38;5;124m'\u001b[39m, \u001b[38;5;124m'\u001b[39m\u001b[38;5;124mhttp_error_default\u001b[39m\u001b[38;5;124m'\u001b[39m) \u001b[38;5;241m+\u001b[39m orig_args\n\u001b[1;32m--> 559\u001b[0m     \u001b[38;5;28;01mreturn\u001b[39;00m \u001b[38;5;28mself\u001b[39m\u001b[38;5;241m.\u001b[39m_call_chain(\u001b[38;5;241m*\u001b[39margs)\n",
      "File \u001b[1;32mc:\\Users\\user\\anaconda3\\Lib\\urllib\\request.py:492\u001b[0m, in \u001b[0;36mOpenerDirector._call_chain\u001b[1;34m(self, chain, kind, meth_name, *args)\u001b[0m\n\u001b[0;32m    490\u001b[0m \u001b[38;5;28;01mfor\u001b[39;00m handler \u001b[38;5;129;01min\u001b[39;00m handlers:\n\u001b[0;32m    491\u001b[0m     func \u001b[38;5;241m=\u001b[39m \u001b[38;5;28mgetattr\u001b[39m(handler, meth_name)\n\u001b[1;32m--> 492\u001b[0m     result \u001b[38;5;241m=\u001b[39m func(\u001b[38;5;241m*\u001b[39margs)\n\u001b[0;32m    493\u001b[0m     \u001b[38;5;28;01mif\u001b[39;00m result \u001b[38;5;129;01mis\u001b[39;00m \u001b[38;5;129;01mnot\u001b[39;00m \u001b[38;5;28;01mNone\u001b[39;00m:\n\u001b[0;32m    494\u001b[0m         \u001b[38;5;28;01mreturn\u001b[39;00m result\n",
      "File \u001b[1;32mc:\\Users\\user\\anaconda3\\Lib\\urllib\\request.py:639\u001b[0m, in \u001b[0;36mHTTPDefaultErrorHandler.http_error_default\u001b[1;34m(self, req, fp, code, msg, hdrs)\u001b[0m\n\u001b[0;32m    638\u001b[0m \u001b[38;5;28;01mdef\u001b[39;00m \u001b[38;5;21mhttp_error_default\u001b[39m(\u001b[38;5;28mself\u001b[39m, req, fp, code, msg, hdrs):\n\u001b[1;32m--> 639\u001b[0m     \u001b[38;5;28;01mraise\u001b[39;00m HTTPError(req\u001b[38;5;241m.\u001b[39mfull_url, code, msg, hdrs, fp)\n",
      "\u001b[1;31mHTTPError\u001b[0m: HTTP Error 403: Forbidden"
     ]
    }
   ],
   "source": [
    "#  사용자 입력값 검증 요청\n",
    "import os\n",
    "import sys\n",
    "import urllib.request\n",
    "from dotenv import load_dotenv\n",
    "load_dotenv()\n",
    "client_id = os.getenv(\"NAVER_CLIENT_ID\") # 개발자센터에서 발급받은 Client ID 값\n",
    "client_secret = os.getenv(\"NAVER_CLIENT_SECRET\") # 개발자센터에서 발급받은 Client Secret 값\n",
    "key = os.getenv(\"NAVER_CAPTCHA_KEY\")\n",
    "code = \"1\"\n",
    "value = \"497N2UF6\"\n",
    "url = \"https://openapi.naver.com/v1/captcha/nkey?code=\" + code + \"&key=\" + key + \"&value=\" + value\n",
    "request = urllib.request.Request(url)\n",
    "request.add_header(\"X-Naver-Client-Id\",client_id)\n",
    "request.add_header(\"X-Naver-Client-Secret\",client_secret)\n",
    "response = urllib.request.urlopen(request)\n",
    "rescode = response.getcode()\n",
    "if(rescode==200):\n",
    "    response_body = response.read()\n",
    "    print(response_body.decode('utf-8'))\n",
    "else:\n",
    "    print(\"Error Code:\" + rescode)\n"
   ]
  },
  {
   "cell_type": "code",
   "execution_count": 42,
   "id": "f85b10a8",
   "metadata": {},
   "outputs": [
    {
     "name": "stdout",
     "output_type": "stream",
     "text": [
      "Name: python-dotenv\n",
      "Version: 0.21.0\n",
      "Summary: Read key-value pairs from a .env file and set them as environment variables\n",
      "Home-page: https://github.com/theskumar/python-dotenv\n",
      "Author: Saurabh Kumar\n",
      "Author-email: me+github@saurabh-kumar.com\n",
      "License: BSD-3-Clause\n",
      "Location: c:\\Users\\user\\anaconda3\\Lib\\site-packages\n",
      "Requires: \n",
      "Required-by: anaconda-cloud-auth, pydantic-settings\n",
      "Note: you may need to restart the kernel to use updated packages.\n"
     ]
    }
   ],
   "source": [
    "%pip show python-dotenv"
   ]
  },
  {
   "cell_type": "markdown",
   "id": "b7d984a6",
   "metadata": {},
   "source": [
    "* requests를 사용하는 코드로 변경하기\n",
    "* [requests docs](https://requests.readthedocs.io/en/latest/user/quickstart/)"
   ]
  },
  {
   "cell_type": "code",
   "execution_count": 3,
   "id": "025c5b46",
   "metadata": {},
   "outputs": [
    {
     "name": "stdout",
     "output_type": "stream",
     "text": [
      "{\"key\":\"wMcQ7cItyRd4lCI3\"}\n"
     ]
    }
   ],
   "source": [
    "# 캡차 키 발급 요청\n",
    "import os\n",
    "from dotenv import load_dotenv\n",
    "import requests\n",
    "\n",
    "# .env 파일에서 환경 변수 로드\n",
    "load_dotenv()\n",
    "\n",
    "client_id = os.getenv(\"NAVER_CLIENT_ID\")  # .env 파일의 NAVER_CLIENT_ID 값\n",
    "client_secret = os.getenv(\"NAVER_CLIENT_SECRET\")  # .env 파일의 NAVER_CLIENT_SECRET 값\n",
    "code = \"0\"\n",
    "\n",
    "url = f\"https://openapi.naver.com/v1/captcha/nkey?code={code}\"\n",
    "\n",
    "headers = {\n",
    "    \"X-Naver-Client-Id\": client_id.split(\" #\")[0].strip('\"'),\n",
    "    \"X-Naver-Client-Secret\": client_secret.split(\" #\")[0].strip('\"')\n",
    "}\n",
    "\n",
    "# 요청 보내기\n",
    "response = requests.get(url, headers=headers)\n",
    "\n",
    "# 응답 처리\n",
    "if response.status_code == 200:\n",
    "    print(response.text)\n",
    "else:\n",
    "    print(f\"Error Code: {response.status_code}\")"
   ]
  },
  {
   "cell_type": "code",
   "execution_count": 1,
   "id": "c8cdd48d",
   "metadata": {},
   "outputs": [
    {
     "name": "stdout",
     "output_type": "stream",
     "text": [
      "캡차 이미지 저장\n"
     ]
    }
   ],
   "source": [
    "# 캡차 이미지 요청\n",
    "import os\n",
    "from dotenv import load_dotenv\n",
    "import requests\n",
    "\n",
    "# .env 파일에서 환경 변수 로드\n",
    "load_dotenv()\n",
    "\n",
    "# 환경 변수에서 값 읽기\n",
    "client_id = os.getenv(\"NAVER_CLIENT_ID\")  # .env 파일의 NAVER_CLIENT_ID\n",
    "client_secret = os.getenv(\"NAVER_CLIENT_SECRET\")  # .env 파일의 NAVER_CLIENT_SECRET\n",
    "key = os.getenv(\"NAVER_CAPTCHA_KEY\")  # .env 파일의 NAVER_CAPTCHA_KEY\n",
    "\n",
    "url = f\"https://openapi.naver.com/v1/captcha/ncaptcha.bin?key={key}\"\n",
    "\n",
    "headers = {\n",
    "    \"X-Naver-Client-Id\": client_id.split(\" #\")[0].strip('\"'),\n",
    "    \"X-Naver-Client-Secret\": client_secret.split(\" #\")[0].strip('\"')\n",
    "}\n",
    "\n",
    "# 요청 보내기\n",
    "response = requests.get(url, headers=headers)\n",
    "\n",
    "# 응답 처리\n",
    "if response.status_code == 200:\n",
    "    print(\"캡차 이미지 저장\")\n",
    "    with open('captcha.jpg', 'wb') as f:\n",
    "        f.write(response.content)\n",
    "else:\n",
    "    print(f\"Error Code: {response.status_code}\")"
   ]
  },
  {
   "cell_type": "code",
   "execution_count": 2,
   "id": "c018926d",
   "metadata": {},
   "outputs": [
    {
     "name": "stdout",
     "output_type": "stream",
     "text": [
      "{\"result\":true,\"responseTime\":19.06}\n"
     ]
    }
   ],
   "source": [
    "# 사용자 입력값 검증 요청\n",
    "import os\n",
    "from dotenv import load_dotenv\n",
    "import requests\n",
    "\n",
    "# .env 파일에서 환경 변수 로드\n",
    "load_dotenv()\n",
    "\n",
    "# 환경 변수에서 값 읽기\n",
    "client_id = os.getenv(\"NAVER_CLIENT_ID\")  # .env 파일의 NAVER_CLIENT_ID\n",
    "client_secret = os.getenv(\"NAVER_CLIENT_SECRET\")  # .env 파일의 NAVER_CLIENT_SECRET\n",
    "key = os.getenv(\"NAVER_CAPTCHA_KEY\")  # .env 파일의 NAVER_CAPTCHA_KEY\n",
    "\n",
    "# 사용자 입력값\n",
    "code = \"1\"\n",
    "value = \"7B19P\"  # 실제 사용시 사용자 입력값으로 대체 필요\n",
    "\n",
    "# URL 구성\n",
    "url = f\"https://openapi.naver.com/v1/captcha/nkey?code={code}&key={key}&value={value}\"\n",
    "\n",
    "# 요청 헤더\n",
    "headers = {\n",
    "    \"X-Naver-Client-Id\": client_id.split(\" #\")[0].strip('\"'),\n",
    "    \"X-Naver-Client-Secret\": client_secret.split(\" #\")[0].strip('\"')\n",
    "}\n",
    "\n",
    "# 요청 보내기\n",
    "try:\n",
    "    response = requests.get(url, headers=headers)\n",
    "    response.raise_for_status()  # 4xx, 5xx 오류 발생시 예외 발생\n",
    "    \n",
    "    # 응답 처리\n",
    "    print(response.text)\n",
    "    \n",
    "except requests.exceptions.RequestException as e:\n",
    "    print(f\"Error occurred: {e}\")\n",
    "    print(f\"Status Code: {response.status_code if 'response' in locals() else 'N/A'}\")"
   ]
  },
  {
   "cell_type": "code",
   "execution_count": 13,
   "id": "727b427b",
   "metadata": {
    "scrolled": true
   },
   "outputs": [],
   "source": [
    "# 사용자 입력값 검증 요청\n",
    "\n"
   ]
  },
  {
   "cell_type": "markdown",
   "id": "d5e1179a",
   "metadata": {},
   "source": [
    "### 5. 블로그 검색하기"
   ]
  },
  {
   "cell_type": "code",
   "execution_count": 1,
   "id": "877d0c7f",
   "metadata": {},
   "outputs": [
    {
     "name": "stdout",
     "output_type": "stream",
     "text": [
      "[['대구<b>파이썬</b>학원 실전 기술 익힌 곳', '▶ 제이의 맛있는 세상 ◀', '그때 힘이 되어 준 대구<b>파이썬</b>학원에 대한 글을 써보려 해요! IT 위주로 학습하는 곳 단순히 구직에... 이 대구<b>파이썬</b>학원은 전직, 현직 강사들이 비전공자도 따라갈 수 있을 정도로 눈높이 교육을 진행해 준다고... ', 'blog.naver.com/xshinerx', 'https://blog.naver.com/xshinerx/223787876858'], ['대전자바학원 <b>파이썬</b> 앱개발 공부하고 취업까지', '반짝반짝 너와 나', '저는 <b>파이썬</b>부터 시작해 백엔드 개발에 필요한 다양한 과정을 배우기로 결정했어요. <b>파이썬</b>은 최근 많은 사람들이 주목하고 인기 있는 프로그래밍 언어로 특히 생성 AI 앱을 구축하고 싶다면 필수인 언어였고... ', 'blog.naver.com/mamansiri', 'https://blog.naver.com/mamansiri/223750243246'], ['[선착순마감] 내일배움카드 <b>파이썬</b>기초강의, PYTHON독학... ', '동작여성인력개발센터', '왜 자꾸 사람들이 <b>파이썬</b>부터 배우라 할까요? 이유는 간단해요. 문법이 간단해서 쉽게 배울 수 있고... 저희 센터에서는 ‘<b>파이썬</b> 기초 튼튼 다지기’ 과정을 운영 중이에요. 이건 정말 “코딩 완전... ', 'blog.naver.com/dj_woman', 'https://blog.naver.com/dj_woman/223826104131'], ['잼코딩 <b>파이썬</b> 독학 - 10. 조건문 : if문과 들여쓰기(인덴트)', '실적을 만드는 코딩학원 잼코딩학원', '오늘의 포스팅은 잼코딩 <b>파이썬</b> 10. 조건문 : if문과 들여쓰기(인덴트)에 해당하는 내용입니다. 잼코딩 <b>파이썬</b> 교재 링크 (무료, 회원가입 필요 없음) 이전 포스팅(잼코딩 <b>파이썬</b> 독학 - 잼코딩 <b>파이썬</b> 독학 - 9.... ', 'blog.naver.com/jamduino', 'https://blog.naver.com/jamduino/223826466797'], ['<b>파이썬</b> 자격증 시험 종류 및 취득과정', '화닝의 일본어+교육 교실', '오늘은 <b>파이썬</b> 자격증 시험 종류 및 취득과정에 대해서 자세히 알려드리도록 하겠습니다. <b>파이썬</b> 자격증은? <b>파이썬</b> 자격증 시험은 C, C+, JAVA Script 등 여러 프로그래밍 언어들 중 하나인 Python을 학습하는... ', 'blog.naver.com/hwani-0627', 'https://blog.naver.com/hwani-0627/223748981099'], ['(<b>파이썬</b> 학습기록)역시 개발공부 바닥도 고인물 투성. 내 길은... ', '찰나의 실행과 독서 그리고 성장', \"최근 <b>파이썬</b> 학습에 있어서 꽤나 큰 변화가 있었기에 이를 기록하고자 합니다. &quot;00 하지 마세요&quot; 투성이... 저의 경우에는 인프런 Dave Lee님의 강의 중 '크롤링' 수업을 통해 기본기를 깔짝 맛을 보며 <b>파이썬</b>으로... \", 'blog.naver.com/currybread0', 'https://blog.naver.com/currybread0/223761299487'], ['아나콘다 주피터 노트북 설치 <b>파이썬</b> 프로그래밍 준비하기', '짜루의 이것저것 리뷰', '거의 모든 분야에서 생성형 AI에 관한 관심이 늘어나면서 인공지능을 활용한 <b>파이썬</b> 프로그래밍... 아나콘다 (Ananconda) 설치 VS Code, PyCharm과 더불어 3대 <b>파이썬</b> IDE로 통한다. 시스템 리소스를 적게 차지해... ', 'blog.naver.com/skdaksdptn', 'https://blog.naver.com/skdaksdptn/223675613694'], ['<b>파이썬</b> 학원 AI를 개발하는 국비지원', '법무법인 천선', '<b>파이썬</b> 학원 AI를 개발하는 국비지원 최근 <b>파이썬</b>(Python)언어가 개발자 시장에서 엄청난 인기를 누리고 있으며 대부분의 구인 글을 보면 관련 기술 전문가에 대한 비중이 점점 높아지고 있어요 예전에는 잘... ', 'blog.naver.com/newtechm', 'https://blog.naver.com/newtechm/223801070808'], ['<b>파이썬</b>자격증 시험 일정 및 공부방법', 'JS 해피하게~★', '이번 글에서는 위의 언어 중 <b>파이썬</b>자격증 시험 일정 및 공부방법에 대해 말씀드리려고 합니다. <b>파이썬</b> 장점 <b>파이썬</b>자격증 장점은 다른 분야에 비해 진입이 간단하며 활용 범위가 넓다는 점에 있습니다.... ', 'blog.naver.com/lunasea883', 'https://blog.naver.com/lunasea883/223700486618'], ['안산코딩학원 요즘 대세는 <b>파이썬</b>', 'Smart Box - JHL', '안산코딩학원 요즘 대세는 <b>파이썬</b> 최근 <b>파이썬</b>(Python)이라는 컴퓨터 언어에 대한 수요가 엄청나게 급증하고 있고 관련 학과를 운영하고 있는 대학교에서도 모두 해당 언어 교육을 집중적으로 운영하고 있어요... ', 'blog.naver.com/hoyaup', 'https://blog.naver.com/hoyaup/223787933571'], ['데이터 사이언스 <b>파이썬</b> 판다스 코딩 인터뷰', '데이터 사이언티스트 루나의 미국 유학 후 취업', '<b>파이썬</b>은 데싸용이라는 것보니까 판다스 일 것 같은데 일단, 예전에 네트워킹 해놨던 사람... 챗지피티한테 이 포스팅 주제로 쓸 그림 좀 그려달라고, 특히나 &quot;판다스 <b>파이썬</b> 코딩 인터뷰&quot; 라고... ', 'blog.naver.com/data-scientist-luna', 'https://blog.naver.com/data-scientist-luna/223769365357'], ['사무직 직장인 코스 프로2 Cos Pro2 <b>파이썬</b> 시험 공부 및... ', '지우다 만 혼잣말', '코스 프로2 <b>파이썬</b> 시험을 봤다. 시험 자체가 어떻게 이루어지는지 궁금했는데 생각보다 시험 자체에... YBM 코스 프로2 <b>파이썬</b> 모의고사는 문제를 받아보면 각종 연산 기법이 다 나와서 <b>파이썬</b> 기술... ', 'blog.naver.com/workingwife', 'https://blog.naver.com/workingwife/223797711490'], ['c언어 <b>파이썬</b> 코딩 국비지원 학원 교육', '즐겨찾기', '<b>파이썬</b>, 자바뿐만 아니라, 웹 개발에 사용되는 자바스크립트, 데이터 분석에 강력한 R 언어 등 각 분야에 맞는 다양한 언어들이 존재합니다. 오늘은 그중에서도 대표적인 프로그래밍 언어인 C언어, <b>파이썬</b>... ', 'blog.naver.com/sunsun0621', 'https://blog.naver.com/sunsun0621/223716321825'], ['동탄 컴퓨터학원 <b>파이썬</b> 초등학생 맞춤 코딩 수업!', '동탄코딩학원 씨큐브', '동탄 컴퓨터학원, 초등학생 <b>파이썬</b> 수업은 이렇게 다릅니다 코딩은 이제 선택이 아니라 기본입니다.... <b>파이썬</b> 공부를 위한 동탄 컴퓨터학원을 찾고 계신다면, 수업 방식부터 커리큘럼까지 초등학생에게 딱 맞춘... ', 'blog.naver.com/c3dongtan', 'https://blog.naver.com/c3dongtan/223819929589'], ['IT/<b>파이썬</b>] AI 챗봇 등의... 혼자 만들면서 공부하는 <b>파이썬</b>&quot;', '한껏 게을러터진 냥이 집사의 일기장', '바로 &quot;<b>파이썬</b>&quot;입니다. <b>파이썬</b>은 제가 대학을 다니던 2001년에도 있었지만, 그렇게까지 뜨지 못했고, 당시에 <b>파이썬</b>이 2 버젼에서 3 버젼 올라가려고 하던 시기이기도 했습니다. 그리고 현재까지 3.x버젼을 쓰고... ', 'blog.naver.com/rapperkjm', 'https://blog.naver.com/rapperkjm/223784749634'], ['<b>파이썬</b> 기본 문법 익히기: 게임 개발자를 위한 첫걸음', '슬리피핑거의 게임 개발 블로그', '그렇다면 <b>파이썬</b>은 정말 강력한 도구가 될 수 있습니다. 오늘은 게임 개발자의 관점에서 <b>파이썬</b> 기본 문법을 익히는 이유와 그 과정에서 알아두면 좋은 팁들을 이야기해 보려고 합니다. 너무 딱딱하지 않게... ', 'blog.naver.com/sleepyfinger', 'https://blog.naver.com/sleepyfinger/223828325230'], ['잼코딩 <b>파이썬</b> 독학 - 9. 제어문 : 여러 줄 코드 짜기와 주석 처리', '실적을 만드는 코딩학원 잼코딩학원', '오늘의 포스팅은 잼코딩 <b>파이썬</b> 9. 제어문 : 여러 줄 코드 짜기 / 주석에 해당하는 내용입니다. 잼코딩 <b>파이썬</b> 교재 링크 (무료, 회원가입 필요 없음) 이전 포스팅(잼코딩 <b>파이썬</b> 독학 - 8. 입출력 : 여러 값 한... ', 'blog.naver.com/jamduino', 'https://blog.naver.com/jamduino/223812080841'], ['안산코딩학원 비전공자가 배워본, <b>파이썬</b> 수업 후기', '소소한 일상?', '보편적으로 사용되는 언어로는 자바, C언어, C++, <b>파이썬</b>이 있어요. 저는 그중 <b>파이썬</b>이 저와 잘 맞는 것 같아서 이걸로 수업을 들었어요. 제가 처음에 어떤 언어를 선택해야 할지 고심에 빠졌을 때 선생님께서... ', 'blog.naver.com/songin06', 'https://blog.naver.com/songin06/223725822718'], ['직장인 프로그래밍(<b>파이썬</b>) 학습기록 (4개월차)', '찰나의 실행과 독서 그리고 성장', '후술하겠지만, 이후에 <b>파이썬</b> 관련된 강의도 많이 들었고 수업도 많이 들었지만, <b>파이썬</b> 강의 중에 좋은 강의를 찾기가 쉽지가 않습니다. 그리고 뭔가 체계적으로 알려준다는 강의도 최근에 와서 만난 아주... ', 'blog.naver.com/currybread0', 'https://blog.naver.com/currybread0/223782549290'], ['<b>파이썬</b> 설치·다운로드 및 입문 가이드', '주들의 그리 대단하진 않지만 굉장한 이야기', '<b>파이썬</b> 설치·다운로드 및 입문 가이드 많고 많은 프로그래밍 언어들 중에서 사용할 수 있는 범위가 굉장히 넓고, 다른 프로그래밍 언어들에 비해 체감 난이도가 쉽다고 알려진 <b>파이썬</b>은 학습을 하여... ', 'blog.naver.com/urmyver', 'https://blog.naver.com/urmyver/223756990512'], ['<b>파이썬</b> 리스트 제대로 이해하기 – 초보자를 위한 기초 개념... ', '잡학다식', '| <b>파이썬</b>의 기본, 리스트부터 시작하자 | <b>파이썬</b>(Python)은 코딩을 처음 접하는 사람들에게 가장 많이 추천되는 언어입니다. 그 중에서도 리스트(List)는 자료를 담고, 다루는 데 매우 중요한... ', 'blog.naver.com/qreeko', 'https://blog.naver.com/qreeko/223808183207'], ['대구AI학원 <b>파이썬</b> 리스트 컴프리헨션', '하루 하나 코딩 하나 책 하나', '오늘은 대구 AI학원 <b>파이썬</b> 리스트 컴프리헨션 실습을 통해 <b>파이썬</b>의 강력한 기능 중 하나인 리스트 컴프리헨션(List Comprehension)과 조건 표현식(삼항 연산자)에 대해 알아보겠습니다. 간단한 문법이지만... ', 'blog.naver.com/hma778', 'https://blog.naver.com/hma778/223828303245'], ['<b>파이썬</b> 학원 국내 유일한 임베디드 교육', 'Smart Box - JHL', '<b>파이썬</b> 학원 국내 유일한 임베디드 교육 많은 분들이 임베디드 교육을 희망하고는 있지만 대부분... 임베디드나 <b>파이썬</b> 개발자는 사회적으로 공급이 어려워 인력난에 허덕이고 있는데요 저희 <b>파이썬</b> 학원의... ', 'blog.naver.com/hoyaup', 'https://blog.naver.com/hoyaup/223804997100'], ['[챗GPT와 함께하는 코딩] <b>파이썬</b> 3일차 – 연산자와... ', '석쏭의 세종사는 이야기', '– <b>파이썬</b>의 계산 공식들 2. 조건문이란? – 상황에 따라 다르게 실행하는 코드 3. if-elif-else 문... – <b>파이썬</b>의 계산 공식들 코딩에서 연산자는 숫자나 변수 사이의 계산이나 비교를 도와주는... ', 'blog.naver.com/seokssong', 'https://blog.naver.com/seokssong/223817036287'], ['잠실코딩학원 초등코딩 교육 수업 C언어 <b>파이썬</b> 기초 학습과정', '사랑해봉봉', '잠실코딩학원 초등코딩 교육 수업 C언어 <b>파이썬</b> 기초 학습과정 안녕하세요 ^3^ 유치원 땐 코딩 교육을... 하나인 <b>파이썬</b> 초급 과정으로 코더랜드와 시작했고 컴알못인 엄마는 잠실코딩학원 고민과 걱정을 덜어낼... ', 'blog.naver.com/miffy992279', 'https://blog.naver.com/miffy992279/223802785533'], ['<b>파이썬</b>으로 배우는 게임 개발 입문편,실전편(이 책은 신성한... ', '마이클 키튼', \"<b>파이썬</b>으로 게임 만드는 책이다. '그래서 그게 뭐?' 이런 의문이 들텐데.. 2. 처음부터 간결하게 시작한다. 이 책은 <b>파이썬</b> 설치과정 간단하게 보여주고 내장 IDE로 시작한다. 그렇다. 보통 이런 종류 책이면... \", 'blog.naver.com/leecorea4', 'https://blog.naver.com/leecorea4/223759288900'], ['<b>파이썬</b> 프로그래밍 어렵지 않아요!', '베리해피한 이야기', \"<b>파이썬</b> 프로그래밍 쉬운 프로그래밍 개념 정리 프로그래밍을 처음 시작할 때 가장 많이 듣는 말, '일단 <b>파이썬</b>부터 해봐!' 왜일까요? 저도 처음엔 '<b>파이썬</b>? 뱀이야 뭐야...' 하면서 겁부터 났던 기억이... \", 'blog.naver.com/queen0326', 'https://blog.naver.com/queen0326/223825108487'], ['[도서 리뷰] 혼자 만들면서 공부하는 <b>파이썬</b>', 'DOPT의 게임과 프로그래밍', '혼자 만들면서 공부하는 <b>파이썬</b> 저자 문현일 출판 한빛미디어 발매 2025.02.14. <b>파이썬</b>(Python)은 1991년 귀도 반 로섬(Guido van Rossum)이 개발한 고급 프로그래밍 언어로, 간결하고 읽기 쉬운 문법을 특징으로 합니다.... ', 'blog.naver.com/armigar', 'https://blog.naver.com/armigar/223800158977'], ['【강좌】 <b>파이썬</b> #01 - <b>파이썬</b>(Python) 설치와 환경설정', '디에이치부동산(부동산중개법인) - 064ㆍ745ㆍ0531', '#<b>파이썬</b> #Python #프로그래밍 #부동산시세예측 #웹스크랩핑 #분석 #설치 안녕하세요? 디에이치부동산입니다. (부동산의 모든 것!) <b>파이썬</b> 설치와 환경설정 오늘은 <b>파이썬</b>(Python)에 대해 알아보겠습니다.... ', 'blog.naver.com/dh_realestate', 'https://blog.naver.com/dh_realestate/223815338320'], ['코딩밸리 쉽게 배우는 <b>파이썬</b> 챗GPT', '일상 즐거움', '초등 아이도 쉽게 배우는 <b>파이썬</b>! 챗GPT 저도 코딩에 대해서는 잘 모르는터라 고민했는데 남편이 <b>파이썬</b> 배우면 좋다고 하길래 막둥이에게 딱이겠다 싶어 시켜보았더니 아주 즐겁게 하고 있어요. 코딩밸리 리뷰... ', 'blog.naver.com/lemon8363', 'https://blog.naver.com/lemon8363/223801870016'], ['맥북 <b>파이썬</b> 설치, FastAPI &amp; uvicorn으로 웹서버 구현... ', '개발자의 일상', \"하지만 <b>파이썬</b> 개발을 하다보면 프로젝트마다 버전관리를 해야하는 상황이 생긴다. 처음 구성할 때 'pyenv'를 통해 <b>파이썬</b> 버전 관리를 하는 부분부터 시작하려고 한다. 두번째로는... \", 'blog.naver.com/mcm1092', 'https://blog.naver.com/mcm1092/223740796408'], ['부평코딩학원 AI 시대의 <b>파이썬</b>, C언어 상세한 교육정보', '우리를 위한 이야기 \"IT 직업의 모든것(취뽀)\"', '오늘은 AI 시대에 <b>파이썬</b>, C언어와 같은 기초 코딩 및 AI 실무 과정에 대한 글을 작성하려고 해요! 특히... <b>파이썬</b>, C언어 교육정보 3. 국비지원 정보 취업이 목표라면 전액지원! 4. AI 실무 교육정보 + 자격증 교육... ', 'blog.naver.com/ggumdream_', 'https://blog.naver.com/ggumdream_/223814993688'], ['직장인이 <b>파이썬</b> 데이터분석을 배워야 하는 이유', '찰나의 실행과 독서 그리고 성장', '나는 지난 4분기부터 열심히 <b>파이썬</b>을 공부하고 있다. https://blog.naver.com/currybread0/223782549290 결론부터 <b>파이썬</b>을 배우면 단숨에 어떤 것들이 완벽하게 달라지거나 하진 않는다. 일단 시간 배워야 하는 절대적인... ', 'blog.naver.com/currybread0', 'https://blog.naver.com/currybread0/223816787526'], ['<b>파이썬</b>에서 SQLite의 DB를 암호화 해보기(feat.... ', '네모고래의 블로그', '요즘 한참 <b>파이썬</b>으로 프로그래밍 공부를 하는중인데 왜 <b>파이썬</b>이 사람들에게 널리 쓰이는지 몸소 체험을 하고 있다!!! 언어 자체가 쉽다는 장점은 제쳐두고서라도 기본으로 제공되는 라이브러리가... ', 'blog.naver.com/blue_war', 'https://blog.naver.com/blue_war/223802484763'], ['대구코딩학원 <b>파이썬</b> 게임실습하기', '하루 하나 코딩 하나 책 하나', '오늘은 대구코딩학원 <b>파이썬</b> 게임실습하기 시리즈 중 하나로 총알을 발사하는 간단한 게임을 직접 만들어보는 시간을 가져볼 거예요. 이번 실습은 <b>파이썬</b> 초보자도 재미있게 따라 할 수 있도록 구성되었으며... ', 'blog.naver.com/hma778', 'https://blog.naver.com/hma778/223827504711'], ['[배우다] <b>파이썬</b>, 일단 닥치고 그냥 봐야할 것 같다.', '신레온주의-공인회계사의 일상', '<b>파이썬</b>을 시작했죠. 했습니다. 했을 겁니다. (지금 또 포스팅을 하고 있는 것을 보면, 뭔가 공부를... <b>파이썬</b>도 그런가 봅니다? 시간이 약이고, 여러 번 해야 내 것이 되는, 포기하지 않고 꾸준히 해야 하는... ', 'blog.naver.com/thiszaiji', 'https://blog.naver.com/thiszaiji/223806180904'], ['[챗GPT와 함께하는 코딩] <b>파이썬</b> 4일차 – 리스트와 반복문... ', '석쏭의 세종사는 이야기', '하나씩 꺼내보려면 이렇게 해요: [<b>파이썬</b> 코드] print(shopping_cart[0]) # 우유 print(shopping_cart[1]) # 계란... [<b>파이썬</b> 코드] for item in shopping_cart: print(item + &quot;의 가격을 확인하세요&quot;) 출력결과는 다음과... ', 'blog.naver.com/seokssong', 'https://blog.naver.com/seokssong/223818687869'], ['<b>파이썬</b> 코드를 짜면서 알게된 ChatGPT', '나의 바다, 그곳은', '그리고 2025년에는 <b>파이썬</b>코드 작성하는 것을 배웠다. 하루종일, 밤늦게까지, 주말에도 챗GPT와 같이... 모르는 것을 몇번이나 물어봐도 한결같이 가르쳐주는데, 처음에는 <b>파이썬</b> 설치하는 법도 몰랐는데 이런... ', 'blog.naver.com/hj1124', 'https://blog.naver.com/hj1124/223782901533'], ['무료로 <b>파이썬</b> 직접 설치하기! (feat. 쥬피터노트북)', '데이터공방', '<b>파이썬</b>을 설치할 때, 가장 편한건,,, 아나콘다 버전을 이용하는 것입니다. 하지만, 아나콘다는... 하는 분은 아래처럼 <b>파이썬</b>을 직접 설치하고, 필요한 라이브러리와 쥬피터노트북을 설치해서... ', 'blog.naver.com/kiddwannabe', 'https://blog.naver.com/kiddwannabe/223791454714'], ['<b>파이썬</b> 데이터분석 입문 책 추천 판다스 활용 코딩자율학습', '미라클로빈의 오마이리뷰', '요즘 <b>파이썬</b>으로 데이터분석 공부를 시작해보고 싶으신 분들 많으시죠? 그런 분들께 딱 맞는 책을 하나... 코딩 자율학습 잔재미코딩의 <b>파이썬</b> 데이터 분석 입문 저자 Dave Lee 출판 길벗 발매 2025.04.01. 책 제목은... ', 'blog.naver.com/robin502c', 'https://blog.naver.com/robin502c/223825927918'], ['[<b>파이썬</b> 시리즈] 1.1 <b>파이썬</b>, 주피터 노트북 설치', 'Blog for Verilog HDL&RF Circuit Design', '여러분, 오늘은 <b>파이썬</b> 및 주피터 노트북을 설치하는 방법에 대해 다루어 보려고 합니다. <b>파이썬</b>은 다다음 시간부터 본격적으로 다루겠습니다. <b>파이썬</b> 설치(3.9.0) ※ 윈도우 운영체제 기준으로... ', 'blog.naver.com/soi897', 'https://blog.naver.com/soi897/223710778961'], ['글로벌인 일본취업 IT 과정에서 <b>파이썬</b> 함께 배워요!', '해외취업연수기관 [GLOBAL-IN]', '2025년부터 새롭게 일본취업 IT JAVA 웹 개발자 연수과정 수업에 추가된 <b>파이썬</b>에 대해 설명해보자 합니다. <b>파이썬</b>이란? <b>파이썬</b>은 고급 프로그래밍 언어 중 하나로, 1991년 귀도 반 로섬에 의해 처음... ', 'blog.naver.com/globalin01', 'https://blog.naver.com/globalin01/223765850597'], ['<b>파이썬</b>으로 만드는 게임 서버: 쉽고 강력한 선택', '슬리피핑거의 게임 개발 블로그', '<b>파이썬</b>(Python)으로 게임 서버를 만드는 이야기를 나눠볼까 합니다. 게임 서버 개발이라 하면 복잡하고 어려울 것 같지만, <b>파이썬</b>을 활용하면 생각보다 쉽게 시작할 수 있어요. 특히, 게임 개발자라면... ', 'blog.naver.com/sleepyfinger', 'https://blog.naver.com/sleepyfinger/223828287810'], ['야구 데이터로 배우는 <b>파이썬</b>(사이토 아마네)', '전시회다이어리', '야구 데이터로 배우는 <b>파이썬</b> 저자 사이토 아마네 출판 영진닷컴 발매 2025.02.14. 본 도서는... 배우는 <b>파이썬</b>&gt;을 통해 <b>파이썬</b>으로 데이터분석하는 IT 과정을 야구 데이터분석을 중심으로 분석하는 방법을... ', 'blog.naver.com/xnosis01', 'https://blog.naver.com/xnosis01/223779829231'], ['<b>파이썬</b> 공부) 랜덤함수 사용해서 점심 내기 게임 만들기', \"Mini's Daily diary\", '우선 저는 9일동안 &quot;나도코딩의 <b>파이썬</b> 입문&quot; 이라는 책을 1회독 했습니다. 깊이 있는 공부가 아닌 아, <b>파이썬</b>이 이런거구나? 느낌 정도를 받기 위해 단기간 1회독을 하였어요. 어제... ', 'blog.naver.com/pmh0830kr', 'https://blog.naver.com/pmh0830kr/223764568647'], ['설치 32비트 가상 환경 설치. <b>파이썬</b> 32비트 설치 (비추천)', 'IT 사업기획, 온라인 마케팅, 컴퓨터, IT 리뷰', '<b>파이썬</b> 32비트 환경 설치 방법입니다. .....약....6시간 삽질 뒤...제 의견입니다..... <b>파이썬</b> 32비트 하지 마셔요.... 다른 라이브러리와 호환성이 많이 떨어집니다. 그래도 어쩔수 없다면..... ', 'blog.naver.com/cardin9', 'https://blog.naver.com/cardin9/223802707732'], ['<b>파이썬</b> 입문 고민 중이라면? 동대구역<b>파이썬</b>학원', '반짝이는 하루', '업무 자동화부터 데이터 분석, 인공지능까지… <b>파이썬</b> 하나만 잘 다뤄도 할 수 있는 일이 무궁무진... &quot;라는 고민 많이 하실텐데요 정답은 <b>파이썬</b>입니다 왜 <b>파이썬</b>일까? 자바, C언어, <b>파이썬</b> 등등 기초 언어는... ', 'blog.naver.com/pwb5926', 'https://blog.naver.com/pwb5926/223825215532'], ['(주)웨이비스(방산 통신장비)-<b>파이썬</b>(Python) 통계분석 및... ', '한국제조혁신연구원', '오늘은 (주)웨이비스에서 진행한 <b>파이썬</b>(Python) 통계분석 및 업무효율 향상 실무이해 강의 사례를 소개하려고 합니다. 최근 많은 기업들이 통계 분석 Tool로 <b>파이썬</b>(Python)을 선택하고 있고, 활용 및 여러... ', 'blog.naver.com/mjh5234', 'https://blog.naver.com/mjh5234/223790490662'], ['[배우다]<b>파이썬</b>을 시작하다', '신레온주의-공인회계사의 일상', '<b>파이썬</b>이라는 것을 배우기 시작했습니다. <b>파이썬</b>을 미리 배워 두면 도움이 된다기에 책을 일단 샀었습니다. <b>파이썬</b>이 뭘까. 배우라길래 시도는 하는데, 도대체 뭘까. 그러나 음, 저와는 세계관이 다르더군요.... ', 'blog.naver.com/thiszaiji', 'https://blog.naver.com/thiszaiji/223797030446'], ['데이터를 모으는 마법, <b>파이썬</b>으로 웹 크롤러 만들기', '내 성격 100% 활용하기', '[<b>파이썬</b>으로 웹 크롤러 만들기]는 이러한 막연함을 통쾌하게 벗어던지게 해 줄 수 있는 도서 입니다.... 이 책의 대상은, * <b>파이썬</b> 기초는 알지만 웹 크롤링은 처음인 분 * 웹에서 원하는 정보를 자동으로 모으고... ', 'blog.naver.com/drvoss', 'https://blog.naver.com/drvoss/223813484859'], ['<b>파이썬</b> 코드를 작성하고 실행해 보아요~', '#오늘도즐유해!', '좀 더 설명을 드려볼게요~ <b>파이썬</b> 프로그램을 작성하려고 위의 IDLE를 실행하면 셸 윈도우가... 편집창에서는 <b>파이썬</b> 코드를 작성하고 이 프로그램을 실행하면 셸 윈도우가 짜잔 하는 거죠~ 이제부터... ', 'blog.naver.com/daldalrory', 'https://blog.naver.com/daldalrory/223709733818'], ['챗GPT와 함께하는 코딩] <b>파이썬</b> 2일차 – 변수랑 자료형?... ', '석쏭의 세종사는 이야기', '-<b>파이썬</b>에서 데이터를 담는 이름표 2. 자료형이 뭐야? –숫자, 글자, 참/거짓 3. 실습! 다양한 변수... – <b>파이썬</b>에서 데이터를 담는 이름표 변수는 데이터를 저장하는 상자 같은 거예요. 예를 들어, 내... ', 'blog.naver.com/seokssong', 'https://blog.naver.com/seokssong/223815671059'], ['<b>파이썬</b> 게임 프로그래밍 하기 (with 챗GPT python)', '코예커플 IT', '<b>파이썬</b> 프로그래밍 하기 (with 챗GPT python) 프로그래밍을 처음 접하는 사람들도 쉽게 따라 할 수 있는 <b>파이썬</b> 게임 프로그래밍을 소개해 드립니다. 특히, 요즘 인기 있는 AI 도구인 챗GPT를 사용하면 <b>파이썬</b>... ', 'blog.naver.com/aiwositai', 'https://blog.naver.com/aiwositai/223662944748'], [\"'<b>파이썬</b>으로 웹 크롤러 만들기' 라이언 미첼, 하나부터 열까지... \", '더파란비 (theparanbi)의 블로그', \"이 방법을 알려주는 책이 바로 라이언 미첼의 '<b>파이썬</b>으로 웹 크롤러 만들기'다. 이 책은 <b>파이썬</b>을 사용하여 원하는 데이터를 가져오는 다양한 방법을 매우 자세히 알려준다. 단순히 방법만 알려주는 것이... \", 'blog.naver.com/theparanbi', 'https://blog.naver.com/theparanbi/223813470386'], ['<b>파이썬</b> 인공지능 &amp; R 데이터 학습 멘토링 프로그램 &amp; AI... ', '백기락 Best Biz IT AI Coach', '전체 과정은 R 데이터 I , II <b>파이썬</b> 데이터 I, II <b>파이썬</b> 인공지능 I, II 로 나뉘어집니다. 각 과정은 3개월 정도의 학습 기간을 가지시길 권장 드리며, 2~3개 과정을 함께 들으시는 것도... ', 'blog.naver.com/kirak', 'https://blog.naver.com/kirak/223778856745'], ['Flask: <b>파이썬</b> 웹 개발의 강력한 도구', '슬리피핑거의 게임 개발 블로그', 'Flask는 <b>파이썬</b> 기반의 마이크로 웹 프레임워크로, 웹 애플리케이션 개발을 위한 강력하고 유연한... 2004년 오스트리아의 오픈소스 개발자 아르민 로나허가 만든 Flask는 현재 Django와 함께 <b>파이썬</b> 웹... ', 'blog.naver.com/sleepyfinger', 'https://blog.naver.com/sleepyfinger/223743388574'], ['[<b>파이썬</b> 시리즈] 2.3. 연산자 (1)', 'Blog for Verilog HDL&RF Circuit Design', '이 게시물은 <b>파이썬</b> 3.9.0 기준 공식 문서를 참고하여 만들어졌습니다! &lt;<b>파이썬</b> 공식 문서(3.9.0 기준)&gt; https://docs.python.org/release/3.9.0/ &quot; &quot; 오늘도 주피터 노트북을 들어가셔서 새로운 이름의 ipynb 파일을... ', 'blog.naver.com/soi897', 'https://blog.naver.com/soi897/223722403799'], ['DATA분석코딩책. 잔재미코딩의 <b>파이썬</b> 데이터 분석 입문', 'TOI Story', '잔재미코딩의 <b>파이썬</b> 데이터 분석 입문 코딩 자율학습 잔재미코딩의 <b>파이썬</b> 데이터 분석 입문 저자 Dave Lee 출판 길벗 발매 2025.04.01. <b>파이썬</b> 데이터 분석, 어디서부터 시작할까요? 데이터(DATA) 분석을 처음... ', 'blog.naver.com/toi300s', 'https://blog.naver.com/toi300s/223826710959'], ['수성구컴퓨터학원 <b>파이썬</b> 타이머알람만들기', '소놀코딩[개발자 실무교육 전문]', '그래서 오늘은 수성구컴퓨터학원 <b>파이썬</b> 타이머알람만들기 라는 아주 간단하지만 실용적인 코딩... 수성구컴퓨터학원 <b>파이썬</b> 타이머알람만들기 프로젝트는 <b>파이썬</b>을 통해 시간을 다루고, 조건에 따라... ', 'blog.naver.com/nasu0210', 'https://blog.naver.com/nasu0210/223828363134'], ['[HD현대] <b>파이썬</b> 교육 3기 (CSM) 참여자 모집 안내 (~04/01까지)', '아이들과미래재단 공식블로그', \"HD현대 <b>파이썬</b> 교육 3기(CSM) 참여자 모집 안내 'HD현대 <b>파이썬</b> 교육'은? HD현대 <b>파이썬</b> 교육은 소프트웨어(SW) 코딩에 관심이 있지만 기회가 부족한 수도권 지역 거주 중학교 3학년, 고등학교 1학년 학생을... \", 'blog.naver.com/kidsn_future', 'https://blog.naver.com/kidsn_future/223793523900'], ['[챗GPT와 함께하는 코딩] <b>파이썬</b> 6일차 – 에러? 겁먹지 말고... ', '석쏭의 세종사는 이야기', \"실제 에러 예시로 이해해보자  예시 1: 따옴표가 안 닫혔어요 [<b>파이썬</b> 코드] print(&quot;안녕하세요)... 썼어요 [<b>파이썬</b> 코드] name = &quot;철수&quot; print(namme) [결과] pgsql NameError: name 'namme' is not defined [해석]... \", 'blog.naver.com/seokssong', 'https://blog.naver.com/seokssong/223826675862'], ['<b>파이썬</b> 파일 개발 : 브라우저 실행 도구 만들기', '주들의 그리 대단하진 않지만 굉장한 이야기', '<b>파이썬</b> 파일 개발 브라우저 실행 도구 만들기 필자는 컴퓨터로 업무를 수행하는 과정에선 항상 여러... 이번 포스팅에선 이러한 문제를 개선할 수 있도록 <b>파이썬</b>을 기반으로 닫힌 브라우저의 탭을... ', 'blog.naver.com/urmyver', 'https://blog.naver.com/urmyver/223744253147'], ['아두이노에서 마이크로<b>파이썬</b> 쉽게 사용하기!', 'No.1 전자엔지니어 전문몰 아이씨뱅큐', '오늘은 아두이노에서 마이크로<b>파이썬</b>을 더욱 쉽게 활용할 수 있게 된 소식에 대해... 지금부터 아두이노와 MicroPython이 만나 어떠한 변화가 생겼는지 함께 알아보겠습니다 마이크로<b>파이썬</b>이... ', 'blog.naver.com/icbanq', 'https://blog.naver.com/icbanq/223773235197'], ['[코딩 자율학습 잔재미코딩의 <b>파이썬</b> 데이터 분석 입문]... ', '프로기억러 발자', '[코딩 자율학습 잔재미코딩의 <b>파이썬</b> 데이터 분석 입문] DATA분석 판다스 입문서 독서 후기 요즘 AI... 좋은 기회로 책을 읽어볼 수 있게 되어서 <b>파이썬</b> 데이터 분석에 대해 공부해봤는데요. 정말 입문서로... ', 'blog.naver.com/00ming00', 'https://blog.naver.com/00ming00/223824923859'], ['리트코드 SQL <b>파이썬</b> dense_rank 문제풀이', '데이터 사이언티스트 루나의 미국 유학 후 취업', '같은 문제를 가지고 SQL과 <b>파이썬</b> 판다스를 가지고 풀어보겠습니다. 푸는 방법이... <b>파이썬</b> 판다스 답안 위에 SQL에서 푼 것과 같은 방법으로 풀었습니다. 프로젝트 당이니까... ', 'blog.naver.com/data-scientist-luna', 'https://blog.naver.com/data-scientist-luna/223770097870'], ['[<b>파이썬</b> 공부] apply lambda 쉽게 따라 써보자', '데이터 사이언티스트 루나의 미국 유학 후 취업', '<b>파이썬</b> 판다스에서 정말 유용하게 사용 되는 apply와 <b>파이썬</b> 자체에서 흔하게 사용 되는 lambda를 같이 사용하는 법을 알아보겠다. 코딩 인터뷰에도 자주 나오는 문제이니 어떻게... ', 'blog.naver.com/data-scientist-luna', 'https://blog.naver.com/data-scientist-luna/223777866062'], [\"[배우다] <b>파이썬</b>, 어서 와, 'if~ else 조건문'이란다.\", '신레온주의-공인회계사의 일상', '기대 안한 야근과 스트레스로 몸과 멘탈이 무너지는데, <b>파이썬</b>으로 다시 한번 멘탈 붕괴를 겪었습니다. 밤은 깊었고, 몸은 피곤하고, 배는 고프고, 스트레스는 받은지라, 집에 돌아온 자정이 다 되어 닭을 시켜... ', 'blog.naver.com/thiszaiji', 'https://blog.naver.com/thiszaiji/223814063153'], ['<b>파이썬</b>(Python)은 어디에서 주로 사용되나요?', '영진닷컴 공식 블로그', '<b>파이썬</b>은 1991년에 귀도 반 로섬(Guido van Rossum)에 의해 발표되었습니다. 간단하고 읽기 쉬운 문법으로... 그래서, <b>파이썬</b>은 데이터 분석의 영역에서 큰 역할을 하고 있습니다. <b>파이썬</b>의 역할 AI · 머신러닝... ', 'blog.naver.com/ydot', 'https://blog.naver.com/ydot/223787144861'], ['혼자 만들면서 공부하는 <b>파이썬</b>', '러블리한 세상', '최근 <b>파이썬</b>을 독학하시는 분들이 크게 늘어나고 있는 것 같아요. 온라인 강의를 듣거나 입문서를 통해... 혼자 만들면서 공부하는 <b>파이썬</b> 저자 문현일 출판 한빛미디어 발매 2025.02.14. 제가 소개 드리려고 하는... ', 'blog.naver.com/liebesky', 'https://blog.naver.com/liebesky/223811645908'], ['013_모듈 module _ <b>파이썬</b> 외부모듈', '뚜벅이의 지질여행', '내용) ※ <b>파이썬</b> 프로그래밍 예시문 [ 기본 구조 ] | 모듈 module ◆ 외부모듈 : <b>파이썬</b> 기본 제공이 아닌 외부 사람들이 만들어서 배포한 모듈 Numpy 수치계산 Pandas 데이터 처리 Matplotlib... ', 'blog.naver.com/geologenie', 'https://blog.naver.com/geologenie/223742717947'], ['<b>파이썬</b>과 JAX로 추천 시스템 구축하기', '제이펍의 참 똑똑한 2비트 책 이야기', '알려주며, <b>파이썬</b>, JAX, PySpark, SparkSQL, FastAPI를 사용하여 실제로 추천 시스템을 구축하는 직관적인... 도서명 <b>파이썬</b>과 JAX로 추천 시스템 구축하기 부제 만들면서 배우는 대규모 상용 추천 시스템... ', 'https://jpub.tistory.com/', 'https://jpub.tistory.com/468845'], ['[챗GPT와 함께하는 코딩] <b>파이썬</b> 5일차 – 함수를 카페... ', '석쏭의 세종사는 이야기', '<b>파이썬</b> 함수도 똑같아요! <b>파이썬</b>에서는 이렇게 쓸 수 있어요: [<b>파이썬</b> 코드] def make_americano(): print(&quot;1. 커피 콩을 간다&quot;) print(&quot;2. 뜨거운 물을 붓는다&quot;) print(&quot;3. 컵에 담는다&quot;) print(&quot;4. 아메리카노... ', 'blog.naver.com/seokssong', 'https://blog.naver.com/seokssong/223821645721'], ['ESPnet 설치를 위한 <b>파이썬</b> 환경 설정', '파워 프로그래머', 'https://espnet.github.io/espnet/installation.html 위의 웹 페이지에 ESPnet 설치를 위한 <b>파이썬</b> 설정 방법을 4가지 종류로 구분하여서 설명하고 있는 것 같아서 어떤 방법이 좋을지 ChatGPT 에게 문의한... ', 'blog.naver.com/websearch', 'https://blog.naver.com/websearch/223790585917'], ['자바스크립트 vs <b>파이썬</b>: 어떤 언어를 배워야 할까?', '1人 IT담당자', '#it #ai #인공 #지능 #자바스크립트 #<b>파이썬</b> #언어 #코딩 #프로그램 #프로그래밍 #자바 #개발 #앱 #app #홈페이지 #사이트 #문법 #난이도 #쉬운 #어려운 #초보 #학습 #phython 자바스크립트와 <b>파이썬</b>, 두 언어는... ', 'blog.naver.com/k5619', 'https://blog.naver.com/k5619/223794632739'], ['<b>파이썬</b> 초보자를 위한 자료형 정리 (기본부터 리스트... ', '잡학다식', '| <b>파이썬</b>을 처음 시작한다면 꼭 알아야 할 것 | 프로그래밍을 처음 시작하면 많은 개념이... <b>파이썬</b>은 특히 자료형의 구성이 간결하면서도 다양해 초보자가 이해하기에 상대적으로 수월합니다.... ', 'blog.naver.com/qreeko', 'https://blog.naver.com/qreeko/223808165637'], ['<b>파이썬</b>기반 빅데이터분석마케팅전문가과정! 6년간의 스토리~~', '도약을 위한 새로운 출발~ 북부여성발전센터', '라고 생각하고 있는 분들 ★★모두 다 주목★★ <b>파이썬</b>기반 빅데이터분석 마케팅전문가과정을 통해... 온 &lt;<b>파이썬</b>기반 빅데이터분석 마케팅전문가과정&gt; 데이터분석 역량강화로 커리어를 업그레이드 할 수... ', 'blog.naver.com/bukbuwomen', 'https://blog.naver.com/bukbuwomen/223784710591'], ['<b>파이썬</b>전문가 자격증의 전망과 기회', '꿈꾸는 행복한 교육', '<b>파이썬</b> 전문가 자격증은 현재와 미래의 IT 산업에서 중요한 역할을 할 것으로 예상됩니다. 자격증을 통해 다양한 기회를 얻고, 경력을 쌓아 나가는 것이 중요합니다. <b>파이썬</b>의 세계에 발을 들여놓고... ', 'blog.naver.com/dalkishabet', 'https://blog.naver.com/dalkishabet/223786114748'], ['코파일럿 사용한 <b>파이썬</b> 코딩 1일 차', '블로그', '바로 <b>파이썬</b>을 설치하고 실행시키는 법까지 보고 작동시켰으나 문제는 <b>파이썬</b>은 커녕 프로그래밍 언어에 대해 1도 모른다는 것이였다. 의욕만 앞선 나머지 도구들은 준비가 되어있는데 이를 어떻게... ', 'blog.naver.com/yorushika1004', 'https://blog.naver.com/yorushika1004/223795258974'], ['[한빛미디어] <b>파이썬</b>으로 웹 크롤러 만들기(3판)', '종이책을 좋아하는 개발자', '&quot; 라이언 미첼, 최경현, &lt;<b>파이썬</b>으로 웹 크롤러 만들기(3판)&gt; 한빛미디어, 2025 자동화된 나만의 웹... 내가 작업한 프로그래밍 언어는 <b>파이썬</b>이 아니었지만 굉장히 재미있게 읽었고, 책을 읽는 동안... ', 'blog.naver.com/dhan0213', 'https://blog.naver.com/dhan0213/223802870790'], ['<b>파이썬</b> 주사위 이모지 출력 GUI프로그램', '하루 하나 코딩 하나 책 하나', '지난해에 이어 오늘은 <b>파이썬</b> TK인터로 주사위 이모지 출력하기를 통해 GUI 프로그램을 만들어... 이번 프로젝트에서는 <b>파이썬</b> tkinter 주사위 이모지 출력 예제를 통해 주사위의 1부터 6까지의 눈을... ', 'blog.naver.com/hma778', 'https://blog.naver.com/hma778/223769515797'], ['<b>파이썬</b> 기초부터 실무까지! 잇업 올인원 풀패키지', '고려아카데미컨설팅 기업HRD * ITUP (잇업)', '<b>파이썬</b> 기초부터 실무까지! 잇업 올인원 풀패키지라면 완벽 마스터! <b>파이썬</b>, 처음이어도 정말 괜찮을까요? <b>파이썬</b>은 컴퓨터 언어 중에서도 가장 배우기 쉬운 언어 1위로 꼽혀요. 게다가 요즘은 개발자뿐... ', 'blog.naver.com/kacnet', 'https://blog.naver.com/kacnet/223810339872'], ['[챗GPT와 함께하는 코딩] <b>파이썬</b> 완전 처음부터 시작하기... ', '석쏭의 세종사는 이야기', '챗GPT와 함께 배우는 코딩, 왜 <b>파이썬</b>일까? 2. <b>파이썬</b> 설치부터 진짜 쉽게 따라하기 3. 첫 <b>파이썬</b> 코드 – 챗GPT가 도와줄게! 4. 헷갈릴 땐 어떻게? 챗GPT로 해결하는 팁 5. 마무리 및 다음 예고 : 변수와 자료형... ', 'blog.naver.com/seokssong', 'https://blog.naver.com/seokssong/223810102470'], ['개발자를 위한 <b>파이썬</b> 업무자동화 | 자동화가 필요한... ', '종이책을 좋아하는 개발자', '사용하기 <b>파이썬</b>으로 페이지 만들기 GCP 클라우드 리소스 가져와서 정리하기 구글은 CLI도... 개발자를 위한 <b>파이썬</b> 업무자동화 | 자동화가 필요한 개발자를 위한 실시간 코딩 세션... ', 'blog.naver.com/dhan0213', 'https://blog.naver.com/dhan0213/223805295463'], ['<b>파이썬</b> 초시계코드짜기(20분만에 만들기)', '나의 바다, 그곳은', '<b>파이썬</b>을 실행하고 새 파일을 엽니다. 제목은 시계 clock.py입니다. <b>파이썬</b>에 붙여넣기를 합니다. 오른쪽 상단에 play 버튼이 있어요. 실행이 됩니다. 딱 엄지손가락 두 마디만큼이네요. 욕심이 생기네요.... ', 'blog.naver.com/hj1124', 'https://blog.naver.com/hj1124/223783098961'], ['[<b>파이썬</b>, C++] YOLO v8/v11 해보기', 'Notebook', '[<b>파이썬</b>] YOLO v8 해보기 https://github.com/ultralytics/ultralytics ******************************** <b>파이썬</b> 3.12는 이미 설치되어 있음. pip install ultralytics yolo.exe는 C:\\\\Users\\\\admin\\\\AppData\\\\Local... ', 'blog.naver.com/jdkim2004', 'https://blog.naver.com/jdkim2004/223764416093'], ['웹크롤링이란? 웹 스크래핑과 차이점부터 <b>파이썬</b> 실습까지!', '비쓰루지', '<b>파이썬</b>을 활용한 웹크롤링 실습 웹크롤링을 수행하기 위해서는 프로그래밍이 필요한데, 프로그래밍 언어 중에서 <b>파이썬</b>(Python)이 가장 많이 사용됩니다. <b>파이썬</b>에는 다양한 웹크롤링 라이브러리가... ', 'blog.naver.com/bthrug', 'https://blog.naver.com/bthrug/223788919898'], ['[<b>파이썬</b> 시리즈] 2.4. 연산자 (2)', 'Blog for Verilog HDL&RF Circuit Design', '이 게시물은 <b>파이썬</b> 3.9.0 기준 공식 문서를 참고하여 만들어졌습니다! &lt;<b>파이썬</b> 공식 문서(3.9.0 기준)&gt; https://docs.python.org/release/3.9.0/ &quot; &quot; 오늘도 주피터 노트북을 들어가셔서 새로운 이름의 ipynb 파일을... ', 'blog.naver.com/soi897', 'https://blog.naver.com/soi897/223730006709'], ['잼코딩 <b>파이썬</b> 월간 조회수 3500 건 달성!', '실적을 만드는 코딩학원 잼코딩학원', '<b>파이썬</b> 1,2권 월간 조회수 3,500건 돌파! 잼코딩 <b>파이썬</b> 링크 &lt; &gt; 저는 잼코딩 <b>파이썬</b> 교재 집필자와 <b>파이썬</b> 포스팅 작성자로서, <b>파이썬</b>을 노베이스에서 독학을 한다고 상정, “어떻게 하면 <b>파이썬</b>을 보다 쉽게... ', 'blog.naver.com/jamduino', 'https://blog.naver.com/jamduino/223760808872'], ['<b>파이썬</b>과 챗GPT의 만남으로 직장인코딩 효율 높이기', 'SPACE CREATOR', '오늘은 <b>파이썬</b>과 챗GPT를 통해 직장인코딩 효율을 높일 수 있는 방법이 있다고하는데요. 지난번 소개드린 코딩밸리에서 새로운 강의가 추가됐다고 하니 한번 살펴보도록 합시다. <b>파이썬</b>과 챗GPT의 만남으로... ', 'blog.naver.com/freemeadow', 'https://blog.naver.com/freemeadow/223723615818'], ['<b>파이썬</b> tkinter 카운트 프로그램 만들기', '하루 하나 코딩 하나 책 하나', '<b>파이썬</b>에서 GUI(Graphical User Interface)를 만들 수 있는 기본 라이브러리 중 하나가 바로 <b>파이썬</b> tkinter입니다. <b>파이썬</b> tkinter를 사용하면 간단한 버튼, 라벨, 입력 창 등을 쉽게 만들 수 있으며... ', 'blog.naver.com/hma778', 'https://blog.naver.com/hma778/223767278725'], ['[도서] 혼자 만들면서 공부하는 <b>파이썬</b> !!!', '씨제이송(CJSONG)님의 블로그', '혼자 만들면서 공부하는 <b>파이썬</b> 저자 문현일 출판 한빛미디어 발매 2025.02.14. 혼자 만들면서 공부하는 <b>파이썬</b> 37개 라이브러리와 API로 보고서, 차트, 게임, 맵, AI 챗봇 만들기 문현일 저 2025년... ', 'blog.naver.com/cjsong', 'https://blog.naver.com/cjsong/223812398686'], ['[wsl2] Ubuntu 에서 크롬미움을 설치하고, <b>파이썬</b> 셀레니움을... ', '저기 멀리 쌍둥이 빌딩이..', 'wsl2 리눅스에서 크롬미움을 설치하고, <b>파이썬</b> 셀레니움을 실행 하는 예제 1. 크롬미움과... Bash pip install selenium webdriver-manager <b>파이썬</b> 스크립트 실행: 같은 터미널에서 (가상 환경이... ', 'blog.naver.com/mankeys', 'https://blog.naver.com/mankeys/223827385880'], ['012_모듈 module _ <b>파이썬</b> 내부모듈', '뚜벅이의 지질여행', \"내용) ※ <b>파이썬</b> 프로그래밍 예시문 [ 기본 구조 ] | 모듈 module ◆ 모듈 module : 비슷한 성격의 함수, 클래스들을 가지고 있는 .py 파일 _ '모듈을 사용한다.' : <b>파이썬</b>으로 변수, 함수... \", 'blog.naver.com/geologenie', 'https://blog.naver.com/geologenie/223742454193'], ['(Python기초) <b>파이썬</b>에서 무한히 1을 증가시키는 코드를... ', '김동균의 소프트웨어아카데미(2004~ )', '#<b>파이썬</b>기초 #수업자료 #학습자료 #객체지향프로그래밍 무한히 1 증가시키며 출력하는 코드는? while 문으로 작성하면 쉬울 것입니다. for문으로는 어떻게 하나요?라고 질문이 왔습니다. <b>파이썬</b>에서... ', 'blog.naver.com/nabilera1', 'https://blog.naver.com/nabilera1/223820990413'], ['혼자 도전하다 포기할 뻔했던 자동화, <b>파이썬</b>으로', '진취용기', 'https://www.youtube.com/@cho_ai_lab/playlists http://youtube.com/post/UgkxTme-l4JV-P2xlDxPFMq-zel2v-5fIoOA?si=KMhmcJ0k4n_rwpKT AI 자동화학교&lt;<b>파이썬</b>&gt; 마지막 3월 교육 24(월)능곡, 26(수)홍대, 29(토) 강남 ⟡ 신청 https://forms.gle... ', 'blog.naver.com/bloode', 'https://blog.naver.com/bloode/223809542017'], ['[신간] 인스타페이 ‘챗GPT를 얹는 <b>파이썬</b> 레시피’ 출간', '인스타페이 공식블로그', '◆ 미리보기 AI 개발자들이 챗GPT를 활용해 저술한 ‘챗GPT를 얹는 <b>파이썬</b> 레시피’가 출간됐다. 이 책은 챗GPT를 활용한 <b>파이썬</b> 프로그래밍 실전 가이드로, 초보자부터 현직 개발자까지 쉽게 따라할... ', 'blog.naver.com/instapay_official', 'https://blog.naver.com/instapay_official/223778158079'], ['알고리즘 수업 - 병합 정렬 1의 시간 제한과 <b>파이썬</b>', 'LegenDUST의 잡다한 공간', '병합 정렬을 의사코드를 그대로 <b>파이썬</b>으로 구현하고, 제일 마지막에 A[]에 대입하는 부분만... 파이ㅆ 오늘의 팁: <b>파이썬</b>은 느리다. 아마 어제의 팁이었고 내일의 팁일 것이다. 심지어 pypy로도 속도 제한에... ', 'blog.naver.com/dhnam0502', 'https://blog.naver.com/dhnam0502/223761740066'], ['[1주차 - 1일] 1장 Hello, <b>파이썬</b>!', 'Emblim98님의 블로그', '<b>파이썬</b> 설치 다운로드 페이지 Windows x86 executable installer를 다운로드 VSCode에서 특정 <b>파이썬</b> 선택 적용하기 - <b>파이썬</b> 버전 클릭 원하는 <b>파이썬</b> 버전 선택 VSCode에서 변경된... ', 'blog.naver.com/emblim98', 'https://blog.naver.com/emblim98/223824555928'], ['[챗GPT와 함께하는 코딩] <b>파이썬</b> 7일차 – 나만의 메모장... ', '석쏭의 세종사는 이야기', '(쓰기 기능) [ 예시: “오늘은 <b>파이썬</b> 공부 7일차!”] [python 코드] memo = input(&quot;오늘의 메모를... 실행하면, <b>파이썬</b> 파일이 있는 폴더에 memo.txt가 생깁니다! 메모 앱 없이, 텍스트 메모장을 내... ', 'blog.naver.com/seokssong', 'https://blog.naver.com/seokssong/223828152715'], [\"'<b>파이썬</b>으로 배우는 게임 개발 실전편' 구매 및 소감\", 'Just a Blog', \"대부분은 유니티(Unity) 활용 서적들이었고 Python을 이용한 게임 개발을 다룬 서적들이 조금 있었는데, '<b>파이썬</b>으로 배우는 게임 개발' 서적도 그 중에 보였다. 이 책은 입문편'과 '실전편'의 두 권으로 나뉘어... \", 'https://wehong.tistory.com/', 'https://wehong.tistory.com/2575']]\n"
     ]
    }
   ],
   "source": [
    "import requests\n",
    "import pprint\n",
    "import os\n",
    "from dotenv import load_dotenv\n",
    "load_dotenv()\n",
    "\n",
    "# 환경 변수에서 값 읽기\n",
    "client_id = os.getenv(\"NAVER_CLIENT_ID\")  # .env 파일의 NAVER_CLIENT_ID\n",
    "client_secret = os.getenv(\"NAVER_CLIENT_SECRET\")  # .env 파일의 NAVER_CLIENT_SECRET\n",
    "\n",
    "headers = {\n",
    "    \"X-Naver-Client-Id\": client_id.split(\" #\")[0].strip('\"'),\n",
    "    \"X-Naver-Client-Secret\": client_secret.split(\" #\")[0].strip('\"')\n",
    "}\n",
    "\n",
    "payload = {\n",
    "    'query': '파이썬',\n",
    "    'display': 100,\n",
    "    'sort': 'sim'\n",
    "}\n",
    "\n",
    "url = 'https://openapi.naver.com/v1/search/blog.json' #?query=파이썬&display=100&sort=sim'\n",
    "\n",
    "\n",
    "# requests get(url, params, headers) 요청 \n",
    "res = requests.get(url, params=payload, headers=headers)\n",
    "items_data = res.json()['items']\n",
    "# print(type(items_data)) # list\n",
    "# print(len(items_data),type(items_data), type(items_data[0])) # 100개\n",
    "\n",
    "#print(items_data)\n",
    "# json() 함수로 응답 결과 가져오기\n",
    "# 'title' , 'bloggername' , 'description' , 'bloggerlink' , 'link'\n",
    "items_list = list()\n",
    "item_list = []\n",
    "for item in items_data:\n",
    "#     print(item)\n",
    "    item_list.append(item['title'])\n",
    "    item_list.append(item['bloggername'])\n",
    "    item_list.append(item['description'])\n",
    "    item_list.append(item['bloggerlink'])\n",
    "    item_list.append(item['link'])\n",
    "\n",
    "    items_list.append(item_list)\n",
    "    item_list = []\n",
    "\n",
    "print(items_list)\n",
    "\n",
    "# 'data/nhnblog.txt' 파일 생성하기\n",
    "with open('data/nhnblog.txt','w',encoding=\"utf-8\")as file:\n",
    "    for items in items_list:\n",
    "        for item in items:\n",
    "            item = item + '\\n'\n",
    "            file.write(item)\n",
    "        file.write('-'*150+'\\n')"
   ]
  }
 ],
 "metadata": {
  "kernelspec": {
   "display_name": "base",
   "language": "python",
   "name": "python3"
  },
  "language_info": {
   "codemirror_mode": {
    "name": "ipython",
    "version": 3
   },
   "file_extension": ".py",
   "mimetype": "text/x-python",
   "name": "python",
   "nbconvert_exporter": "python",
   "pygments_lexer": "ipython3",
   "version": "3.12.7"
  }
 },
 "nbformat": 4,
 "nbformat_minor": 5
}
